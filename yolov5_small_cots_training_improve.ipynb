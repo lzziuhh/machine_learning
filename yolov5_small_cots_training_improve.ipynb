{
  "cells": [
    {
      "cell_type": "markdown",
      "metadata": {
        "id": "view-in-github",
        "colab_type": "text"
      },
      "source": [
        "<a href=\"https://colab.research.google.com/github/lzziuhh/machine_learning/blob/master/yolov5_small_cots_training_improve.ipynb\" target=\"_parent\"><img src=\"https://colab.research.google.com/assets/colab-badge.svg\" alt=\"Open In Colab\"/></a>"
      ]
    },
    {
      "cell_type": "markdown",
      "metadata": {
        "id": "q4YkZCHxwTCO"
      },
      "source": [
        "This notebook based on below works, please vote!!!\n",
        "\n",
        "https://www.kaggle.com/ammarnassanalhajali/barrier-reef-yolov5-training\n",
        "\n",
        "since the limit of Kaggle GPU usage, I applied this notebook to colab"
      ],
      "id": "q4YkZCHxwTCO"
    },
    {
      "cell_type": "markdown",
      "metadata": {
        "id": "wYGAK_lnl-EK"
      },
      "source": [
        "# Google drive connection"
      ],
      "id": "wYGAK_lnl-EK"
    },
    {
      "cell_type": "code",
      "execution_count": null,
      "metadata": {
        "colab": {
          "base_uri": "https://localhost:8080/"
        },
        "id": "_BBM6Hswo868",
        "outputId": "0c6981dd-d7f4-4c25-9869-303bef9a05ab"
      },
      "outputs": [
        {
          "name": "stdout",
          "output_type": "stream",
          "text": [
            "Mounted at /content/gdrive\n",
            " bangali\t    download\t       JTdemo  'My Drive'\n",
            "'Colab Notebooks'   download.gslides   kaggle\n"
          ]
        }
      ],
      "source": [
        "import glob\n",
        "from google.colab import drive\n",
        "drive.mount('/content/gdrive')\n",
        "\n",
        "!ln -s /content/gdrive/My\\ Drive/ /mydrive\n",
        "\n",
        "!ls /mydrive"
      ],
      "id": "_BBM6Hswo868"
    },
    {
      "cell_type": "markdown",
      "metadata": {
        "id": "up9Va0MRwO4X"
      },
      "source": [
        ""
      ],
      "id": "up9Va0MRwO4X"
    },
    {
      "cell_type": "markdown",
      "metadata": {
        "id": "DIf2PtekjPtY"
      },
      "source": [
        "# Installing the [Kaggle API](https://github.com/Kaggle/kaggle-api) in Colab"
      ],
      "id": "DIf2PtekjPtY"
    },
    {
      "cell_type": "code",
      "execution_count": null,
      "metadata": {
        "colab": {
          "base_uri": "https://localhost:8080/"
        },
        "id": "OppyMnCuWjzJ",
        "outputId": "dfbedc23-9475-4f7b-a87b-5dbc79fe9156"
      },
      "outputs": [
        {
          "name": "stdout",
          "output_type": "stream",
          "text": [
            "Requirement already satisfied: kaggle in /usr/local/lib/python3.7/dist-packages (1.5.12)\n",
            "Requirement already satisfied: tqdm in /usr/local/lib/python3.7/dist-packages (from kaggle) (4.62.3)\n",
            "Requirement already satisfied: six>=1.10 in /usr/local/lib/python3.7/dist-packages (from kaggle) (1.15.0)\n",
            "Requirement already satisfied: python-dateutil in /usr/local/lib/python3.7/dist-packages (from kaggle) (2.8.2)\n",
            "Requirement already satisfied: python-slugify in /usr/local/lib/python3.7/dist-packages (from kaggle) (5.0.2)\n",
            "Requirement already satisfied: certifi in /usr/local/lib/python3.7/dist-packages (from kaggle) (2021.10.8)\n",
            "Requirement already satisfied: urllib3 in /usr/local/lib/python3.7/dist-packages (from kaggle) (1.24.3)\n",
            "Requirement already satisfied: requests in /usr/local/lib/python3.7/dist-packages (from kaggle) (2.23.0)\n",
            "Requirement already satisfied: text-unidecode>=1.3 in /usr/local/lib/python3.7/dist-packages (from python-slugify->kaggle) (1.3)\n",
            "Requirement already satisfied: idna<3,>=2.5 in /usr/local/lib/python3.7/dist-packages (from requests->kaggle) (2.10)\n",
            "Requirement already satisfied: chardet<4,>=3.0.2 in /usr/local/lib/python3.7/dist-packages (from requests->kaggle) (3.0.4)\n"
          ]
        }
      ],
      "source": [
        "!pip install kaggle"
      ],
      "id": "OppyMnCuWjzJ"
    },
    {
      "cell_type": "markdown",
      "metadata": {
        "id": "hMY4CFezjcG-"
      },
      "source": [
        "# Authenticating with Kaggle using kaggle.json\n",
        "\n",
        "Navigate to https://www.kaggle.com. Then go to the [Account tab of your user profile](https://www.kaggle.com/me/account) and select Create API Token. This will trigger the download of kaggle.json, a file containing your API credentials.\n",
        "\n",
        "Then run the cell below to upload kaggle.json to your Colab runtime."
      ],
      "id": "hMY4CFezjcG-"
    },
    {
      "cell_type": "code",
      "execution_count": null,
      "metadata": {
        "colab": {
          "base_uri": "https://localhost:8080/",
          "height": 92,
          "resources": {
            "http://localhost:8080/nbextensions/google.colab/files.js": {
              "data": "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",
              "headers": [
                [
                  "content-type",
                  "application/javascript"
                ]
              ],
              "ok": true,
              "status": 200,
              "status_text": ""
            }
          }
        },
        "id": "0HtGf0HEXEa5",
        "outputId": "78a01aa3-c9ff-4a70-c627-8b7e94315790"
      },
      "outputs": [
        {
          "data": {
            "text/html": [
              "\n",
              "     <input type=\"file\" id=\"files-6c2d439c-4fce-4916-8cc4-05928a30be68\" name=\"files[]\" multiple disabled\n",
              "        style=\"border:none\" />\n",
              "     <output id=\"result-6c2d439c-4fce-4916-8cc4-05928a30be68\">\n",
              "      Upload widget is only available when the cell has been executed in the\n",
              "      current browser session. Please rerun this cell to enable.\n",
              "      </output>\n",
              "      <script src=\"/nbextensions/google.colab/files.js\"></script> "
            ],
            "text/plain": [
              "<IPython.core.display.HTML object>"
            ]
          },
          "metadata": {},
          "output_type": "display_data"
        },
        {
          "name": "stdout",
          "output_type": "stream",
          "text": [
            "Saving kaggle.json to kaggle.json\n",
            "User uploaded file \"kaggle.json\" with length 68 bytes\n"
          ]
        }
      ],
      "source": [
        "from google.colab import files\n",
        "\n",
        "uploaded = files.upload()\n",
        "\n",
        "for fn in uploaded.keys():\n",
        "  print('User uploaded file \"{name}\" with length {length} bytes'.format(\n",
        "      name=fn, length=len(uploaded[fn])))\n",
        "  \n",
        "# Then move kaggle.json into the folder where the API expects to find it.\n",
        "!mkdir -p ~/.kaggle/ && mv kaggle.json ~/.kaggle/ && chmod 600 ~/.kaggle/kaggle.json"
      ],
      "id": "0HtGf0HEXEa5"
    },
    {
      "cell_type": "markdown",
      "metadata": {
        "id": "HMk7Zz4ZkpCe"
      },
      "source": [
        "# Using the Kaggle API\n",
        "\n",
        "For a more complete list of what you can do with the API, visit https://github.com/Kaggle/kaggle-api."
      ],
      "id": "HMk7Zz4ZkpCe"
    },
    {
      "cell_type": "markdown",
      "metadata": {
        "id": "SHVqmMXfilWG"
      },
      "source": [
        "## Listing competitions"
      ],
      "id": "SHVqmMXfilWG"
    },
    {
      "cell_type": "code",
      "execution_count": null,
      "metadata": {
        "colab": {
          "base_uri": "https://localhost:8080/"
        },
        "id": "Oqt7Yfi5aQuM",
        "outputId": "cd24d586-4e40-429c-f746-3a512eb82373"
      },
      "outputs": [
        {
          "name": "stdout",
          "output_type": "stream",
          "text": [
            "Warning: Looks like you're using an outdated API Version, please consider updating (server 1.5.12 / client 1.5.4)\n",
            "ref                                            deadline             category            reward  teamCount  userHasEntered  \n",
            "---------------------------------------------  -------------------  ---------------  ---------  ---------  --------------  \n",
            "contradictory-my-dear-watson                   2030-07-01 23:59:00  Getting Started     Prizes         78           False  \n",
            "gan-getting-started                            2030-07-01 23:59:00  Getting Started     Prizes        117           False  \n",
            "store-sales-time-series-forecasting            2030-06-30 23:59:00  Getting Started  Knowledge        856           False  \n",
            "tpu-getting-started                            2030-06-03 23:59:00  Getting Started  Knowledge        173           False  \n",
            "digit-recognizer                               2030-01-01 00:00:00  Getting Started  Knowledge       1893           False  \n",
            "titanic                                        2030-01-01 00:00:00  Getting Started  Knowledge      13725            True  \n",
            "house-prices-advanced-regression-techniques    2030-01-01 00:00:00  Getting Started  Knowledge       5035           False  \n",
            "connectx                                       2030-01-01 00:00:00  Getting Started  Knowledge        222            True  \n",
            "nlp-getting-started                            2030-01-01 00:00:00  Getting Started  Knowledge        861            True  \n",
            "competitive-data-science-predict-future-sales  2022-12-31 23:59:00  Playground           Kudos      13417           False  \n",
            "ubiquant-market-prediction                     2022-04-18 23:59:00  Featured          $100,000        388            True  \n",
            "feedback-prize-2021                            2022-03-15 23:59:00  Featured          $160,000        933            True  \n",
            "tensorflow-great-barrier-reef                  2022-02-14 23:59:00  Research          $150,000       1647            True  \n",
            "jigsaw-toxic-severity-rating                   2022-02-07 23:59:00  Featured           $50,000       2048           False  \n",
            "g-research-crypto-forecasting                  2022-02-01 23:59:00  Featured          $125,000       1896           False  \n",
            "tabular-playground-series-jan-2022             2022-01-31 23:59:00  Playground           Kudos       1268           False  \n",
            "petfinder-pawpularity-score                    2022-01-14 23:59:00  Research           $25,000       3537            True  \n",
            "santa-2021                                     2022-01-12 23:59:00  Featured           $25,000        867            True  \n",
            "optiver-realized-volatility-prediction         2022-01-10 18:36:00  Featured          $100,000       3852           False  \n",
            "nfl-big-data-bowl-2022                         2022-01-06 23:59:00  Analytics         $100,000          0           False  \n"
          ]
        }
      ],
      "source": [
        "!kaggle competitions list"
      ],
      "id": "Oqt7Yfi5aQuM"
    },
    {
      "cell_type": "markdown",
      "metadata": {
        "id": "dNke00r6ig3h"
      },
      "source": [
        "## Downloading a dataset"
      ],
      "id": "dNke00r6ig3h"
    },
    {
      "cell_type": "code",
      "execution_count": null,
      "metadata": {
        "colab": {
          "base_uri": "https://localhost:8080/"
        },
        "id": "Zruh6G1_T8z1",
        "outputId": "f6aef432-4cca-4b88-c6a7-05023e15189a"
      },
      "outputs": [
        {
          "name": "stdout",
          "output_type": "stream",
          "text": [
            "mkdir: cannot create directory ‘/kaggle’: File exists\n",
            "mkdir: cannot create directory ‘/kaggle/input’: File exists\n",
            "mkdir: cannot create directory ‘/kaggle/input/tensorflow-great-barrier-reef’: File exists\n"
          ]
        }
      ],
      "source": [
        "# unzip the download dataset\n",
        "!mkdir /kaggle\n",
        "!mkdir /kaggle/input\n",
        "!mkdir /kaggle/input/tensorflow-great-barrier-reef\n"
      ],
      "id": "Zruh6G1_T8z1"
    },
    {
      "cell_type": "code",
      "execution_count": null,
      "metadata": {
        "colab": {
          "base_uri": "https://localhost:8080/"
        },
        "id": "bNx-5OWk-nkI",
        "outputId": "84f84763-4006-4f9a-8d96-bed5a74dd11e"
      },
      "outputs": [
        {
          "name": "stdout",
          "output_type": "stream",
          "text": [
            "/kaggle/working\n"
          ]
        }
      ],
      "source": [
        "%mkdir /kaggle/working\n",
        "%cd /kaggle/working"
      ],
      "id": "bNx-5OWk-nkI"
    },
    {
      "cell_type": "code",
      "execution_count": null,
      "metadata": {
        "colab": {
          "base_uri": "https://localhost:8080/"
        },
        "id": "ABagmJ5NZHOC",
        "outputId": "07f4b123-84bb-462e-9a2b-23e630279b92"
      },
      "outputs": [
        {
          "name": "stdout",
          "output_type": "stream",
          "text": [
            "Cloning into 'yolov5'...\n",
            "remote: Enumerating objects: 10628, done.\u001b[K\n",
            "remote: Total 10628 (delta 0), reused 0 (delta 0), pack-reused 10628\u001b[K\n",
            "Receiving objects: 100% (10628/10628), 10.84 MiB | 14.86 MiB/s, done.\n",
            "Resolving deltas: 100% (7335/7335), done.\n"
          ]
        }
      ],
      "source": [
        "!git clone https://github.com/ultralytics/yolov5.git"
      ],
      "id": "ABagmJ5NZHOC"
    },
    {
      "cell_type": "code",
      "execution_count": null,
      "metadata": {
        "id": "4VpFCxHSAXZz"
      },
      "outputs": [],
      "source": [
        "!cp /content/gdrive/MyDrive/kaggle/Yolo5/input/metrics.py /kaggle/working/yolov5/utils/metrics.py"
      ],
      "id": "4VpFCxHSAXZz"
    },
    {
      "cell_type": "code",
      "execution_count": null,
      "metadata": {
        "id": "Fw8pvdkIAu1i"
      },
      "outputs": [],
      "source": [
        "!cp /content/gdrive/MyDrive/kaggle/Yolo5/input/val.py /kaggle/working/yolov5/val.py"
      ],
      "id": "Fw8pvdkIAu1i"
    },
    {
      "cell_type": "code",
      "execution_count": null,
      "metadata": {
        "id": "zr2IHnGbA6GM"
      },
      "outputs": [],
      "source": [
        "!cp /content/gdrive/MyDrive/kaggle/Yolo5/input/__init__.py /kaggle/working/yolov5/utils/loggers/__init__.py"
      ],
      "id": "zr2IHnGbA6GM"
    },
    {
      "cell_type": "code",
      "execution_count": null,
      "metadata": {
        "colab": {
          "base_uri": "https://localhost:8080/"
        },
        "id": "Aojvqv8Gaf8I",
        "outputId": "cce9071e-ab01-4f00-a58a-0147c52b2551"
      },
      "outputs": [
        {
          "name": "stdout",
          "output_type": "stream",
          "text": [
            "Downloading tensorflowgreatbarrierreef.zip to /kaggle/working\n",
            "100% 14.2G/14.2G [04:31<00:00, 57.4MB/s]\n",
            "100% 14.2G/14.2G [04:31<00:00, 56.1MB/s]\n"
          ]
        }
      ],
      "source": [
        "# !kaggle competitions| download -c tensorflow-great-barrier-reef\n",
        "#↑not works, only download about 40 pictures. \n",
        "# found dataset can be downloaded(thanks the help)\n",
        "!kaggle datasets download -d yondraco/tensorflowgreatbarrierreef"
      ],
      "id": "Aojvqv8Gaf8I"
    },
    {
      "cell_type": "code",
      "execution_count": null,
      "metadata": {
        "id": "5u7fzTcAC7QC"
      },
      "outputs": [],
      "source": [
        "!unzip -q ./tensorflowgreatbarrierreef.zip -d /kaggle/input/tensorflow-great-barrier-reef"
      ],
      "id": "5u7fzTcAC7QC"
    },
    {
      "cell_type": "markdown",
      "metadata": {
        "id": "JKXGKwBrGco9"
      },
      "source": [
        "# Check GPU Type"
      ],
      "id": "JKXGKwBrGco9"
    },
    {
      "cell_type": "code",
      "execution_count": null,
      "metadata": {
        "colab": {
          "base_uri": "https://localhost:8080/"
        },
        "id": "tTf7CZejGIvF",
        "outputId": "476c3bb6-bb0b-471b-f53e-adae7bd4bfe5"
      },
      "outputs": [
        {
          "name": "stdout",
          "output_type": "stream",
          "text": [
            "Sun Jan 23 13:17:04 2022       \n",
            "+-----------------------------------------------------------------------------+\n",
            "| NVIDIA-SMI 495.46       Driver Version: 460.32.03    CUDA Version: 11.2     |\n",
            "|-------------------------------+----------------------+----------------------+\n",
            "| GPU  Name        Persistence-M| Bus-Id        Disp.A | Volatile Uncorr. ECC |\n",
            "| Fan  Temp  Perf  Pwr:Usage/Cap|         Memory-Usage | GPU-Util  Compute M. |\n",
            "|                               |                      |               MIG M. |\n",
            "|===============================+======================+======================|\n",
            "|   0  Tesla P100-PCIE...  Off  | 00000000:00:04.0 Off |                    0 |\n",
            "| N/A   37C    P0    26W / 250W |      0MiB / 16280MiB |      0%      Default |\n",
            "|                               |                      |                  N/A |\n",
            "+-------------------------------+----------------------+----------------------+\n",
            "                                                                               \n",
            "+-----------------------------------------------------------------------------+\n",
            "| Processes:                                                                  |\n",
            "|  GPU   GI   CI        PID   Type   Process name                  GPU Memory |\n",
            "|        ID   ID                                                   Usage      |\n",
            "|=============================================================================|\n",
            "|  No running processes found                                                 |\n",
            "+-----------------------------------------------------------------------------+\n"
          ]
        }
      ],
      "source": [
        "gpu_info = !nvidia-smi\n",
        "gpu_info = '\\n'.join(gpu_info)\n",
        "if gpu_info.find('failed') >= 0:\n",
        "  print('Not connected to a GPU')\n",
        "else:\n",
        "  print(gpu_info)"
      ],
      "id": "tTf7CZejGIvF"
    },
    {
      "cell_type": "code",
      "execution_count": null,
      "metadata": {
        "id": "7SZ7Ylku_VD1"
      },
      "outputs": [],
      "source": [
        "# This Python 3 environment comes with many helpful analytics libraries installed\n",
        "# It is defined by the kaggle/python Docker image: https://github.com/kaggle/docker-python\n",
        "# For example, here's several helpful packages to load\n",
        "\n",
        "import numpy as np # linear algebra\n",
        "import pandas as pd # data processing, CSV file I/O (e.g. pd.read_csv)\n",
        "from shutil import copyfile\n",
        "\n",
        "# Input data files are available in the read-only \"../input/\" directory\n",
        "# For example, running this (by clicking run or pressing Shift+Enter) will list all files under the input director"
      ],
      "id": "7SZ7Ylku_VD1"
    },
    {
      "cell_type": "code",
      "execution_count": null,
      "metadata": {
        "id": "llzhAu5pYwGW"
      },
      "outputs": [],
      "source": [
        "train = pd.read_csv('../input/tensorflow-great-barrier-reef/train.csv')\n",
        "train['pos'] = train.annotations != '[]'"
      ],
      "id": "llzhAu5pYwGW"
    },
    {
      "cell_type": "code",
      "execution_count": null,
      "metadata": {
        "id": "No2WdyqbYyWx"
      },
      "outputs": [],
      "source": [
        "!mkdir -p ./yolo_data/fold1/images/val\n",
        "!mkdir -p ./yolo_data/fold1/images/train\n",
        "\n",
        "!mkdir -p ./yolo_data/fold1/labels/val\n",
        "!mkdir -p ./yolo_data/fold1/labels/train"
      ],
      "id": "No2WdyqbYyWx"
    },
    {
      "cell_type": "code",
      "execution_count": null,
      "metadata": {
        "id": "O6v9bt44Y4vy"
      },
      "outputs": [],
      "source": [
        "fold = 1\n",
        "\n",
        "annos = []\n",
        "for i, x in train.iterrows():\n",
        "    if x.video_id == fold:\n",
        "        mode = 'val'\n",
        "    else:\n",
        "        # train\n",
        "        mode = 'train'\n",
        "        if not x.pos: continue\n",
        "        # val\n",
        "    copyfile(f'../input/tensorflow-great-barrier-reef/train_images/video_{x.video_id}/{x.video_frame}.jpg',\n",
        "                f'./yolo_data/fold{fold}/images/{mode}/{x.image_id}.jpg')\n",
        "    if not x.pos:\n",
        "        continue\n",
        "    r = ''\n",
        "    anno = eval(x.annotations)\n",
        "    for an in anno:\n",
        "#            annos.append(an)\n",
        "        r += '0 {} {} {} {}\\n'.format((an['x'] + an['width'] / 2) / 1280,\n",
        "                                        (an['y'] + an['height'] / 2) / 720,\n",
        "                                        an['width'] / 1280, an['height'] / 720)\n",
        "    with open(f'./yolo_data/fold{fold}/labels/{mode}/{x.image_id}.txt', 'w') as fp:\n",
        "        fp.write(r)"
      ],
      "id": "O6v9bt44Y4vy"
    },
    {
      "cell_type": "code",
      "execution_count": null,
      "metadata": {
        "id": "LuP6yXVvY9ma"
      },
      "outputs": [],
      "source": [
        "hyps = '''\n",
        "# YOLOv5 by Ultralytics, GPL-3.0 license\n",
        "# Hyperparameters for COCO training from scratch\n",
        "# python train.py --batch 40 --cfg yolov5m.yaml --weights '' --data coco.yaml --img 640 --epochs 300\n",
        "# See tutorials for hyperparameter evolution https://github.com/ultralytics/yolov5#tutorials\n",
        "\n",
        "lr0: 0.01  # initial learning rate (SGD=1E-2, Adam=1E-3)\n",
        "lrf: 0.1  # final OneCycleLR learning rate (lr0 * lrf)\n",
        "momentum: 0.937  # SGD momentum/Adam beta1\n",
        "weight_decay: 0.0005  # optimizer weight decay 5e-4\n",
        "warmup_epochs: 3.0  # warmup epochs (fractions ok)\n",
        "warmup_momentum: 0.8  # warmup initial momentum\n",
        "warmup_bias_lr: 0.1  # warmup initial bias lr\n",
        "box: 0.05  # box loss gain\n",
        "cls: 0.5  # cls loss gain\n",
        "cls_pw: 1.0  # cls BCELoss positive_weight\n",
        "obj: 1.0  # obj loss gain (scale with pixels)\n",
        "obj_pw: 1.0  # obj BCELoss positive_weight\n",
        "iou_t: 0.20  # IoU training threshold\n",
        "anchor_t: 4.0  # anchor-multiple threshold\n",
        "# anchors: 3  # anchors per output layer (0 to ignore)\n",
        "fl_gamma: 0.0  # focal loss gamma (efficientDet default gamma=1.5)\n",
        "hsv_h: 0.015  # image HSV-Hue augmentation (fraction)\n",
        "hsv_s: 0.7  # image HSV-Saturation augmentation (fraction)\n",
        "hsv_v: 0.4  # image HSV-Value augmentation (fraction)\n",
        "degrees: 0.0  # image rotation (+/- deg)\n",
        "translate: 0.1  # image translation (+/- fraction)\n",
        "scale: 0.5  # image scale (+/- gain)\n",
        "shear: 0.0  # image shear (+/- deg)\n",
        "perspective: 0.0  # image perspective (+/- fraction), range 0-0.001\n",
        "flipud: 0.5  # image flip up-down (probability)\n",
        "fliplr: 0.5  # image flip left-right (probability)\n",
        "mosaic: 1.0  # image mosaic (probability)\n",
        "mixup: 0.5  # image mixup (probability)\n",
        "copy_paste: 0.0  # segment copy-paste (probability)\n",
        "'''"
      ],
      "id": "LuP6yXVvY9ma"
    },
    {
      "cell_type": "code",
      "execution_count": null,
      "metadata": {
        "id": "CQg2kwHbacaV"
      },
      "outputs": [],
      "source": [
        "data = '''\n",
        "# Train/val/test sets as 1) dir: path/to/imgs, 2) file: path/to/imgs.txt, or 3) list: [path/to/imgs1, path/to/imgs2, ..]\n",
        "path: ../yolo_data/fold1/  # dataset root dir\n",
        "train: images/train  # train images (relative to 'path') 128 images\n",
        "val: images/val  # val images (relative to 'path') 128 images\n",
        "test:  # test images (optional)\n",
        "\n",
        "# Classes\n",
        "nc: 1  # number of classes\n",
        "names: ['reef']  # class names\n",
        "\n",
        "\n",
        "# Download script/URL (optional)\n",
        "# download: https://ultralytics.com/assets/coco128.zip\n",
        "'''"
      ],
      "id": "CQg2kwHbacaV"
    },
    {
      "cell_type": "code",
      "execution_count": null,
      "metadata": {
        "id": "aEBSOBZ6aCOQ"
      },
      "outputs": [],
      "source": [
        "with open('./yolov5/data/reef_f1_naive.yaml', 'w') as fp:\n",
        "    fp.write(data)\n",
        "with open('./yolov5/data/hyps/hyp.heavy.2.yaml', 'w') as fp:\n",
        "    fp.write(hyps)"
      ],
      "id": "aEBSOBZ6aCOQ"
    },
    {
      "cell_type": "code",
      "execution_count": null,
      "metadata": {
        "colab": {
          "base_uri": "https://localhost:8080/"
        },
        "id": "ycwpQ2RPZJcc",
        "outputId": "7c64a6a0-0733-43ed-9441-eb0627f1d971"
      },
      "outputs": [
        {
          "name": "stdout",
          "output_type": "stream",
          "text": [
            "/kaggle/working/yolov5\n"
          ]
        }
      ],
      "source": [
        "%cd yolov5"
      ],
      "id": "ycwpQ2RPZJcc"
    },
    {
      "cell_type": "code",
      "execution_count": null,
      "metadata": {
        "colab": {
          "base_uri": "https://localhost:8080/"
        },
        "id": "mY2MYRBkZLdC",
        "outputId": "b43f9bb1-0825-4ebd-fba4-f0c6445d96de"
      },
      "outputs": [
        {
          "name": "stdout",
          "output_type": "stream",
          "text": [
            "Argoverse.yaml\t      hyps\t\t  scripts\t xView.yaml\n",
            "coco128.yaml\t      images\t\t  SKU-110K.yaml\n",
            "coco.yaml\t      Objects365.yaml\t  VisDrone.yaml\n",
            "GlobalWheat2020.yaml  reef_f1_naive.yaml  VOC.yaml\n"
          ]
        }
      ],
      "source": [
        "!ls data/"
      ],
      "id": "mY2MYRBkZLdC"
    },
    {
      "cell_type": "code",
      "execution_count": null,
      "metadata": {
        "colab": {
          "base_uri": "https://localhost:8080/",
          "height": 197
        },
        "id": "z6wMWDQcb50e",
        "outputId": "6b141bdb-e290-473d-fe8d-b51d74775031"
      },
      "outputs": [
        {
          "name": "stdout",
          "output_type": "stream",
          "text": [
            "\u001b[K     |████████████████████████████████| 1.7 MB 3.9 MB/s \n",
            "\u001b[K     |████████████████████████████████| 142 kB 73.0 MB/s \n",
            "\u001b[K     |████████████████████████████████| 97 kB 9.0 MB/s \n",
            "\u001b[K     |████████████████████████████████| 180 kB 72.3 MB/s \n",
            "\u001b[K     |████████████████████████████████| 63 kB 2.0 MB/s \n",
            "\u001b[?25h  Building wheel for subprocess32 (setup.py) ... \u001b[?25l\u001b[?25hdone\n",
            "  Building wheel for pathtools (setup.py) ... \u001b[?25l\u001b[?25hdone\n"
          ]
        },
        {
          "data": {
            "application/javascript": [
              "\n",
              "        window._wandbApiKey = new Promise((resolve, reject) => {\n",
              "            function loadScript(url) {\n",
              "            return new Promise(function(resolve, reject) {\n",
              "                let newScript = document.createElement(\"script\");\n",
              "                newScript.onerror = reject;\n",
              "                newScript.onload = resolve;\n",
              "                document.body.appendChild(newScript);\n",
              "                newScript.src = url;\n",
              "            });\n",
              "            }\n",
              "            loadScript(\"https://cdn.jsdelivr.net/npm/postmate/build/postmate.min.js\").then(() => {\n",
              "            const iframe = document.createElement('iframe')\n",
              "            iframe.style.cssText = \"width:0;height:0;border:none\"\n",
              "            document.body.appendChild(iframe)\n",
              "            const handshake = new Postmate({\n",
              "                container: iframe,\n",
              "                url: 'https://wandb.ai/authorize'\n",
              "            });\n",
              "            const timeout = setTimeout(() => reject(\"Couldn't auto authenticate\"), 5000)\n",
              "            handshake.then(function(child) {\n",
              "                child.on('authorize', data => {\n",
              "                    clearTimeout(timeout)\n",
              "                    resolve(data)\n",
              "                });\n",
              "            });\n",
              "            })\n",
              "        });\n",
              "    "
            ],
            "text/plain": [
              "<IPython.core.display.Javascript object>"
            ]
          },
          "metadata": {},
          "output_type": "display_data"
        },
        {
          "name": "stderr",
          "output_type": "stream",
          "text": [
            "\u001b[34m\u001b[1mwandb\u001b[0m: Appending key for api.wandb.ai to your netrc file: /root/.netrc\n"
          ]
        },
        {
          "data": {
            "text/plain": [
              "True"
            ]
          },
          "execution_count": 26,
          "metadata": {},
          "output_type": "execute_result"
        }
      ],
      "source": [
        "# Install W&B \n",
        "!pip install -q --upgrade wandb\n",
        "\n",
        "# # Login \n",
        "# import wandb\n",
        "\n",
        "# from kaggle_secrets import UserSecretsClient\n",
        "# user_secrets = UserSecretsClient() \n",
        "\n",
        "# personal_key_for_api = user_secrets.get_secret(\"ke\")\n",
        "# ! wandb login $personal_key_for_api\n",
        "\n",
        "# %pip install -q wandb\n",
        "import wandb\n",
        "wandb.login()"
      ],
      "id": "z6wMWDQcb50e"
    },
    {
      "cell_type": "code",
      "execution_count": null,
      "metadata": {
        "id": "y51aygSGff_n"
      },
      "outputs": [],
      "source": [
        ""
      ],
      "id": "y51aygSGff_n"
    },
    {
      "cell_type": "markdown",
      "metadata": {
        "id": "G3AsKPUNfhVY"
      },
      "source": [
        "#change parameter\n",
        "metric recall0.3, map0.7 \\\n",
        "val 0.3-0,8-12\n"
      ],
      "id": "G3AsKPUNfhVY"
    },
    {
      "cell_type": "code",
      "execution_count": 30,
      "metadata": {
        "colab": {
          "base_uri": "https://localhost:8080/"
        },
        "id": "oxGE1-0aZMqK",
        "outputId": "8229d647-3c5a-4df5-8b26-e3cc87a3b5e7"
      },
      "outputs": [
        {
          "output_type": "stream",
          "name": "stdout",
          "text": [
            "\u001b[34m\u001b[1mwandb\u001b[0m: Currently logged in as: \u001b[33mlzziuhh\u001b[0m (use `wandb login --relogin` to force relogin)\n",
            "\u001b[34m\u001b[1mtrain: \u001b[0mweights=yolov5s6.pt, cfg=, data=reef_f1_naive.yaml, hyp=/content/hyp_evolve0119.yaml, epochs=30, batch_size=4, imgsz=3072, rect=False, resume=False, nosave=False, noval=False, noautoanchor=False, evolve=None, bucket=, cache=None, image_weights=False, device=, multi_scale=False, single_cls=False, optimizer=SGD, sync_bn=False, workers=8, project=/content/gdrive/MyDrive/kaggle/Yolo5/kaggle-reef-5s, name=5s6_2176_0123, exist_ok=False, quad=False, linear_lr=False, label_smoothing=0.0, patience=100, freeze=[0], save_period=-1, local_rank=-1, entity=None, upload_dataset=False, bbox_interval=-1, artifact_alias=latest\n",
            "\u001b[34m\u001b[1mgithub: \u001b[0mup to date with https://github.com/ultralytics/yolov5 ✅\n",
            "YOLOv5 🚀 v6.0-207-g8efe977 torch 1.10.0+cu111 CUDA:0 (Tesla P100-PCIE-16GB, 16281MiB)\n",
            "\n",
            "\u001b[34m\u001b[1mhyperparameters: \u001b[0manchor_t=3.34433, anchors=2.4447, box=0.07117, cls=0.38718, cls_pw=0.52511, copy_paste=0.00299, degrees=0.0, fl_gamma=0.0, fliplr=0.5, flipud=0.5, hsv_h=0.00842, hsv_s=0.51737, hsv_v=0.2371, iou_t=0.2, lr0=0.01225, lrf=0.09549, mixup=0.45047, momentum=0.96016, mosaic=0.8999, obj=0.88178, obj_pw=0.86698, perspective=0.0, scale=0.58233, shear=0.0, translate=0.11095, warmup_bias_lr=0.07264, warmup_epochs=1.41254, warmup_momentum=0.95, weight_decay=0.0005\n",
            "\u001b[34m\u001b[1mTensorBoard: \u001b[0mStart with 'tensorboard --logdir /content/gdrive/MyDrive/kaggle/Yolo5/kaggle-reef-5s', view at http://localhost:6006/\n",
            "\u001b[34m\u001b[1mwandb\u001b[0m: Tracking run with wandb version 0.12.9\n",
            "\u001b[34m\u001b[1mwandb\u001b[0m: Syncing run \u001b[33m5s6_2176_0123\u001b[0m\n",
            "\u001b[34m\u001b[1mwandb\u001b[0m: ⭐️ View project at \u001b[34m\u001b[4mhttps://wandb.ai/lzziuhh/kaggle-reef-5s\u001b[0m\n",
            "\u001b[34m\u001b[1mwandb\u001b[0m: 🚀 View run at \u001b[34m\u001b[4mhttps://wandb.ai/lzziuhh/kaggle-reef-5s/runs/1h6xh4p1\u001b[0m\n",
            "\u001b[34m\u001b[1mwandb\u001b[0m: Run data is saved locally in /kaggle/working/yolov5/wandb/run-20220123_133901-1h6xh4p1\n",
            "\u001b[34m\u001b[1mwandb\u001b[0m: Run `wandb offline` to turn off syncing.\n",
            "\n",
            "Downloading https://github.com/ultralytics/yolov5/releases/download/v6.0/yolov5s6.pt to yolov5s6.pt...\n",
            "100% 24.5M/24.5M [00:04<00:00, 5.15MB/s]\n",
            "\n",
            "Overriding model.yaml nc=80 with nc=1\n",
            "Overriding model.yaml anchors with anchors=2.4447\n",
            "\n",
            "                 from  n    params  module                                  arguments                     \n",
            "  0                -1  1      3520  models.common.Conv                      [3, 32, 6, 2, 2]              \n",
            "  1                -1  1     18560  models.common.Conv                      [32, 64, 3, 2]                \n",
            "  2                -1  1     18816  models.common.C3                        [64, 64, 1]                   \n",
            "  3                -1  1     73984  models.common.Conv                      [64, 128, 3, 2]               \n",
            "  4                -1  2    115712  models.common.C3                        [128, 128, 2]                 \n",
            "  5                -1  1    295424  models.common.Conv                      [128, 256, 3, 2]              \n",
            "  6                -1  3    625152  models.common.C3                        [256, 256, 3]                 \n",
            "  7                -1  1    885504  models.common.Conv                      [256, 384, 3, 2]              \n",
            "  8                -1  1    665856  models.common.C3                        [384, 384, 1]                 \n",
            "  9                -1  1   1770496  models.common.Conv                      [384, 512, 3, 2]              \n",
            " 10                -1  1   1182720  models.common.C3                        [512, 512, 1]                 \n",
            " 11                -1  1    656896  models.common.SPPF                      [512, 512, 5]                 \n",
            " 12                -1  1    197376  models.common.Conv                      [512, 384, 1, 1]              \n",
            " 13                -1  1         0  torch.nn.modules.upsampling.Upsample    [None, 2, 'nearest']          \n",
            " 14           [-1, 8]  1         0  models.common.Concat                    [1]                           \n",
            " 15                -1  1    813312  models.common.C3                        [768, 384, 1, False]          \n",
            " 16                -1  1     98816  models.common.Conv                      [384, 256, 1, 1]              \n",
            " 17                -1  1         0  torch.nn.modules.upsampling.Upsample    [None, 2, 'nearest']          \n",
            " 18           [-1, 6]  1         0  models.common.Concat                    [1]                           \n",
            " 19                -1  1    361984  models.common.C3                        [512, 256, 1, False]          \n",
            " 20                -1  1     33024  models.common.Conv                      [256, 128, 1, 1]              \n",
            " 21                -1  1         0  torch.nn.modules.upsampling.Upsample    [None, 2, 'nearest']          \n",
            " 22           [-1, 4]  1         0  models.common.Concat                    [1]                           \n",
            " 23                -1  1     90880  models.common.C3                        [256, 128, 1, False]          \n",
            " 24                -1  1    147712  models.common.Conv                      [128, 128, 3, 2]              \n",
            " 25          [-1, 20]  1         0  models.common.Concat                    [1]                           \n",
            " 26                -1  1    296448  models.common.C3                        [256, 256, 1, False]          \n",
            " 27                -1  1    590336  models.common.Conv                      [256, 256, 3, 2]              \n",
            " 28          [-1, 16]  1         0  models.common.Concat                    [1]                           \n",
            " 29                -1  1    715008  models.common.C3                        [512, 384, 1, False]          \n",
            " 30                -1  1   1327872  models.common.Conv                      [384, 384, 3, 2]              \n",
            " 31          [-1, 12]  1         0  models.common.Concat                    [1]                           \n",
            " 32                -1  1   1313792  models.common.C3                        [768, 512, 1, False]          \n",
            " 33  [23, 26, 29, 32]  1     15408  models.yolo.Detect                      [1, [[0, 1, 2, 3], [0, 1, 2, 3], [0, 1, 2, 3], [0, 1, 2, 3]], [128, 256, 384, 512]]\n",
            "Model Summary: 355 layers, 12314608 parameters, 12314608 gradients\n",
            "\n",
            "Transferred 450/459 items from yolov5s6.pt\n",
            "Scaled weight_decay = 0.0005\n",
            "\u001b[34m\u001b[1moptimizer:\u001b[0m SGD with parameter groups 75 weight (no decay), 79 weight, 79 bias\n",
            "\u001b[34m\u001b[1malbumentations: \u001b[0mversion 1.0.3 required by YOLOv5, but version 0.1.12 is currently installed\n",
            "\u001b[34m\u001b[1mtrain: \u001b[0mScanning '../yolo_data/fold1/labels/train.cache' images and labels... 2820 found, 0 missing, 0 empty, 1 corrupt: 100% 2820/2820 [00:00<?, ?it/s]\n",
            "\u001b[34m\u001b[1mtrain: \u001b[0mWARNING: ../yolo_data/fold1/images/train/0-9470.jpg: ignoring corrupt image/label: non-normalized or out of bounds coordinates [     1.0021]\n",
            "\u001b[34m\u001b[1mval: \u001b[0mScanning '../yolo_data/fold1/labels/val.cache' images and labels... 2099 found, 6133 missing, 0 empty, 0 corrupt: 100% 8232/8232 [00:00<?, ?it/s]\n",
            "Plotting labels to /content/gdrive/MyDrive/kaggle/Yolo5/kaggle-reef-5s/5s6_2176_01234/labels.jpg... \n",
            "\n",
            "\u001b[34m\u001b[1mAutoAnchor: \u001b[0m0.00 anchors/target, 0.000 Best Possible Recall (BPR). Anchors are a poor fit to dataset ⚠️, attempting to improve...\n",
            "\u001b[34m\u001b[1mAutoAnchor: \u001b[0mRunning kmeans for 8 anchors on 5512 points...\n",
            "\u001b[34m\u001b[1mAutoAnchor: \u001b[0mEvolving anchors with Genetic Algorithm: fitness = 0.8890: 100% 1000/1000 [00:02<00:00, 465.08it/s]\n",
            "\u001b[34m\u001b[1mAutoAnchor: \u001b[0mthr=0.30: 1.0000 best possible recall, 7.88 anchors past thr\n",
            "\u001b[34m\u001b[1mAutoAnchor: \u001b[0mn=8, img_size=3072, metric_all=0.643/0.889-mean/best, past_thr=0.648-mean: 72,62, 102,69, 89,84, 112,101, 146,92, 136,122, 168,140, 201,186\n",
            "\u001b[34m\u001b[1mAutoAnchor: \u001b[0mReversing anchor order\n",
            "\u001b[34m\u001b[1mAutoAnchor: \u001b[0mNew anchors saved to model. Update model *.yaml to use these anchors in the future.\n",
            "Image sizes 3072 train, 3072 val\n",
            "Using 2 dataloader workers\n",
            "Logging results to \u001b[1m/content/gdrive/MyDrive/kaggle/Yolo5/kaggle-reef-5s/5s6_2176_01234\u001b[0m\n",
            "Starting training for 30 epochs...\n",
            "\n",
            "     Epoch   gpu_mem       box       obj       cls    labels  img_size\n",
            "      0/29     7.15G   0.09086   0.05349         0        23      3072: 100% 705/705 [27:17<00:00,  2.32s/it]\n",
            "               Class     Images     Labels          P          R     mAP@.5 mAP@.5:.95: 100% 1029/1029 [10:39<00:00,  1.61it/s]\n",
            "                 all       8232       6384     0.0313      0.162     0.0144    0.00624\n",
            "\n",
            "     Epoch   gpu_mem       box       obj       cls    labels  img_size\n",
            "      1/29     15.7G   0.07173   0.04359         0         3      3072: 100% 705/705 [28:14<00:00,  2.40s/it]\n",
            "               Class     Images     Labels          P          R     mAP@.5 mAP@.5:.95: 100% 1029/1029 [10:24<00:00,  1.65it/s]\n",
            "                 all       8232       6384       0.37      0.509       0.43      0.257\n",
            "\n",
            "     Epoch   gpu_mem       box       obj       cls    labels  img_size\n",
            "      2/29     15.7G   0.06162   0.03476         0        12      3072: 100% 705/705 [28:08<00:00,  2.39s/it]\n",
            "               Class     Images     Labels          P          R     mAP@.5 mAP@.5:.95: 100% 1029/1029 [11:09<00:00,  1.54it/s]\n",
            "                 all       8232       6384      0.401      0.458      0.426      0.297\n",
            "\n",
            "     Epoch   gpu_mem       box       obj       cls    labels  img_size\n",
            "      3/29     15.7G   0.05585   0.03211         0         9      3072: 100% 705/705 [28:33<00:00,  2.43s/it]\n",
            "               Class     Images     Labels          P          R     mAP@.5 mAP@.5:.95: 100% 1029/1029 [10:26<00:00,  1.64it/s]\n",
            "                 all       8232       6384        0.5      0.568      0.566      0.386\n",
            "\n",
            "     Epoch   gpu_mem       box       obj       cls    labels  img_size\n",
            "      4/29     15.7G   0.05308   0.02938         0        25      3072: 100% 705/705 [28:25<00:00,  2.42s/it]\n",
            "               Class     Images     Labels          P          R     mAP@.5 mAP@.5:.95: 100% 1029/1029 [10:29<00:00,  1.63it/s]\n",
            "                 all       8232       6384      0.543      0.592      0.595      0.452\n",
            "\n",
            "     Epoch   gpu_mem       box       obj       cls    labels  img_size\n",
            "      5/29     15.7G   0.05123   0.02858         0         9      3072: 100% 705/705 [28:37<00:00,  2.44s/it]\n",
            "               Class     Images     Labels          P          R     mAP@.5 mAP@.5:.95: 100% 1029/1029 [11:09<00:00,  1.54it/s]\n",
            "                 all       8232       6384      0.518      0.581      0.581      0.438\n",
            "\n",
            "     Epoch   gpu_mem       box       obj       cls    labels  img_size\n",
            "      6/29     15.7G   0.05019   0.02766         0        13      3072: 100% 705/705 [28:44<00:00,  2.45s/it]\n",
            "               Class     Images     Labels          P          R     mAP@.5 mAP@.5:.95: 100% 1029/1029 [10:35<00:00,  1.62it/s]\n",
            "                 all       8232       6384      0.595      0.616       0.63      0.464\n",
            "\n",
            "     Epoch   gpu_mem       box       obj       cls    labels  img_size\n",
            "      7/29     15.7G   0.04926   0.02653         0         8      3072: 100% 705/705 [28:26<00:00,  2.42s/it]\n",
            "               Class     Images     Labels          P          R     mAP@.5 mAP@.5:.95: 100% 1029/1029 [10:32<00:00,  1.63it/s]\n",
            "                 all       8232       6384       0.56      0.533      0.542      0.419\n",
            "\n",
            "     Epoch   gpu_mem       box       obj       cls    labels  img_size\n",
            "      8/29     15.7G   0.04785   0.02738         0        34      3072: 100% 705/705 [29:02<00:00,  2.47s/it]\n",
            "               Class     Images     Labels          P          R     mAP@.5 mAP@.5:.95: 100% 1029/1029 [11:05<00:00,  1.55it/s]\n",
            "                 all       8232       6384      0.638      0.619      0.634      0.478\n",
            "\n",
            "     Epoch   gpu_mem       box       obj       cls    labels  img_size\n",
            "      9/29     15.7G   0.04668   0.02607         0        17      3072: 100% 705/705 [28:39<00:00,  2.44s/it]\n",
            "               Class     Images     Labels          P          R     mAP@.5 mAP@.5:.95: 100% 1029/1029 [10:33<00:00,  1.62it/s]\n",
            "                 all       8232       6384      0.597      0.635      0.644      0.487\n",
            "\n",
            "     Epoch   gpu_mem       box       obj       cls    labels  img_size\n",
            "     10/29     15.7G   0.04573   0.02557         0        24      3072: 100% 705/705 [28:57<00:00,  2.46s/it]\n",
            "               Class     Images     Labels          P          R     mAP@.5 mAP@.5:.95: 100% 1029/1029 [10:35<00:00,  1.62it/s]\n",
            "                 all       8232       6384      0.614       0.64      0.653      0.497\n",
            "\n",
            "     Epoch   gpu_mem       box       obj       cls    labels  img_size\n",
            "     11/29     15.7G   0.04616   0.02544         0         4      3072: 100% 705/705 [28:58<00:00,  2.47s/it]\n",
            "               Class     Images     Labels          P          R     mAP@.5 mAP@.5:.95: 100% 1029/1029 [11:07<00:00,  1.54it/s]\n",
            "                 all       8232       6384      0.583      0.603      0.617      0.471\n",
            "\n",
            "     Epoch   gpu_mem       box       obj       cls    labels  img_size\n",
            "     12/29     15.7G   0.04449   0.02477         0        15      3072: 100% 705/705 [28:57<00:00,  2.47s/it]\n",
            "               Class     Images     Labels          P          R     mAP@.5 mAP@.5:.95: 100% 1029/1029 [10:35<00:00,  1.62it/s]\n",
            "                 all       8232       6384      0.578      0.647      0.653      0.494\n",
            "\n",
            "     Epoch   gpu_mem       box       obj       cls    labels  img_size\n",
            "     13/29     15.7G   0.04352   0.02523         0        24      3072: 100% 705/705 [29:01<00:00,  2.47s/it]\n",
            "               Class     Images     Labels          P          R     mAP@.5 mAP@.5:.95: 100% 1029/1029 [10:30<00:00,  1.63it/s]\n",
            "                 all       8232       6384      0.669       0.59      0.615      0.468\n",
            "\n",
            "     Epoch   gpu_mem       box       obj       cls    labels  img_size\n",
            "     14/29     15.7G   0.04305   0.02414         0        28      3072: 100% 705/705 [28:50<00:00,  2.46s/it]\n",
            "               Class     Images     Labels          P          R     mAP@.5 mAP@.5:.95: 100% 1029/1029 [11:04<00:00,  1.55it/s]\n",
            "                 all       8232       6384       0.65      0.632      0.653      0.508\n",
            "\n",
            "     Epoch   gpu_mem       box       obj       cls    labels  img_size\n",
            "     15/29     15.7G   0.04242   0.02371         0         8      3072: 100% 705/705 [28:48<00:00,  2.45s/it]\n",
            "               Class     Images     Labels          P          R     mAP@.5 mAP@.5:.95: 100% 1029/1029 [10:39<00:00,  1.61it/s]\n",
            "                 all       8232       6384      0.635      0.654      0.669      0.504\n",
            "\n",
            "     Epoch   gpu_mem       box       obj       cls    labels  img_size\n",
            "     16/29     15.7G   0.04157   0.02344         0        11      3072: 100% 705/705 [28:33<00:00,  2.43s/it]\n",
            "               Class     Images     Labels          P          R     mAP@.5 mAP@.5:.95: 100% 1029/1029 [10:33<00:00,  1.62it/s]\n",
            "                 all       8232       6384       0.61      0.653      0.665      0.515\n",
            "\n",
            "     Epoch   gpu_mem       box       obj       cls    labels  img_size\n",
            "     17/29     15.7G   0.04137   0.02415         0        13      3072: 100% 705/705 [29:01<00:00,  2.47s/it]\n",
            "               Class     Images     Labels          P          R     mAP@.5 mAP@.5:.95: 100% 1029/1029 [11:06<00:00,  1.54it/s]\n",
            "                 all       8232       6384      0.587      0.669       0.67      0.512\n",
            "\n",
            "     Epoch   gpu_mem       box       obj       cls    labels  img_size\n",
            "     18/29     15.7G   0.04024   0.02293         0        10      3072: 100% 705/705 [28:56<00:00,  2.46s/it]\n",
            "               Class     Images     Labels          P          R     mAP@.5 mAP@.5:.95: 100% 1029/1029 [10:36<00:00,  1.62it/s]\n",
            "                 all       8232       6384      0.648      0.626       0.65      0.499\n",
            "\n",
            "     Epoch   gpu_mem       box       obj       cls    labels  img_size\n",
            "     19/29     15.7G    0.0403   0.02284         0         4      3072: 100% 705/705 [29:06<00:00,  2.48s/it]\n",
            "               Class     Images     Labels          P          R     mAP@.5 mAP@.5:.95: 100% 1029/1029 [10:40<00:00,  1.61it/s]\n",
            "                 all       8232       6384      0.678      0.647      0.674      0.518\n",
            "\n",
            "     Epoch   gpu_mem       box       obj       cls    labels  img_size\n",
            "     20/29     15.7G   0.03996   0.02283         0        17      3072: 100% 705/705 [29:09<00:00,  2.48s/it]\n",
            "               Class     Images     Labels          P          R     mAP@.5 mAP@.5:.95: 100% 1029/1029 [11:10<00:00,  1.53it/s]\n",
            "                 all       8232       6384      0.698      0.634      0.665      0.513\n",
            "\n",
            "     Epoch   gpu_mem       box       obj       cls    labels  img_size\n",
            "     21/29     15.7G   0.03932   0.02183         0        33      3072: 100% 705/705 [29:01<00:00,  2.47s/it]\n",
            "               Class     Images     Labels          P          R     mAP@.5 mAP@.5:.95: 100% 1029/1029 [10:39<00:00,  1.61it/s]\n",
            "                 all       8232       6384      0.664      0.631      0.649      0.496\n",
            "\n",
            "     Epoch   gpu_mem       box       obj       cls    labels  img_size\n",
            "     22/29     15.7G    0.0387   0.02222         0        10      3072: 100% 705/705 [29:13<00:00,  2.49s/it]\n",
            "               Class     Images     Labels          P          R     mAP@.5 mAP@.5:.95: 100% 1029/1029 [10:37<00:00,  1.61it/s]\n",
            "                 all       8232       6384      0.659       0.68      0.701      0.543\n",
            "\n",
            "     Epoch   gpu_mem       box       obj       cls    labels  img_size\n",
            "     23/29     15.7G   0.03851   0.02153         0        13      3072: 100% 705/705 [29:07<00:00,  2.48s/it]\n",
            "               Class     Images     Labels          P          R     mAP@.5 mAP@.5:.95: 100% 1029/1029 [11:13<00:00,  1.53it/s]\n",
            "                 all       8232       6384      0.697      0.663      0.699      0.539\n",
            "\n",
            "     Epoch   gpu_mem       box       obj       cls    labels  img_size\n",
            "     24/29     15.7G   0.03766   0.02199         0        13      3072: 100% 705/705 [29:15<00:00,  2.49s/it]\n",
            "               Class     Images     Labels          P          R     mAP@.5 mAP@.5:.95: 100% 1029/1029 [10:38<00:00,  1.61it/s]\n",
            "                 all       8232       6384      0.685      0.644      0.671       0.52\n",
            "\n",
            "     Epoch   gpu_mem       box       obj       cls    labels  img_size\n",
            "     25/29     15.7G   0.03747   0.02154         0        21      3072: 100% 705/705 [28:43<00:00,  2.44s/it]\n",
            "               Class     Images     Labels          P          R     mAP@.5 mAP@.5:.95: 100% 1029/1029 [10:32<00:00,  1.63it/s]\n",
            "                 all       8232       6384      0.705      0.636      0.669      0.519\n",
            "\n",
            "     Epoch   gpu_mem       box       obj       cls    labels  img_size\n",
            "     26/29     15.7G   0.03688    0.0207         0         7      3072: 100% 705/705 [28:45<00:00,  2.45s/it]\n",
            "               Class     Images     Labels          P          R     mAP@.5 mAP@.5:.95: 100% 1029/1029 [11:05<00:00,  1.55it/s]\n",
            "                 all       8232       6384      0.689      0.645      0.676       0.51\n",
            "\n",
            "     Epoch   gpu_mem       box       obj       cls    labels  img_size\n",
            "     27/29     15.7G   0.03709   0.02106         0        16      3072: 100% 705/705 [28:48<00:00,  2.45s/it]\n",
            "               Class     Images     Labels          P          R     mAP@.5 mAP@.5:.95: 100% 1029/1029 [10:28<00:00,  1.64it/s]\n",
            "                 all       8232       6384      0.651      0.658       0.68      0.528\n",
            "\n",
            "     Epoch   gpu_mem       box       obj       cls    labels  img_size\n",
            "     28/29     15.7G   0.03686    0.0203         0        20      3072: 100% 705/705 [28:39<00:00,  2.44s/it]\n",
            "     28/29     15.7G   0.03686    0.0203         0        20      3072: 100% 705/705 [28:39<00:00,  2.44s/it]\n",
            "               Class     Images     Labels          P          R     mAP@.5 mAP@.5:.95: 100% 1029/1029 [10:43<00:00,  1.60it/s]\n",
            "               Class     Images     Labels          P          R     mAP@.5 mAP@.5:.95: 100% 1029/1029 [10:43<00:00,  1.60it/s]\n",
            "                 all       8232       6384       0.65      0.655      0.678      0.521\n",
            "                 all       8232       6384       0.65      0.655      0.678      0.521\n",
            "\n",
            "     Epoch   gpu_mem       box       obj       cls    labels  img_size\n",
            "  0% 0/705 [00:00<?, ?it/s]\n",
            "     Epoch   gpu_mem       box       obj       cls    labels  img_size\n",
            "     29/29     15.7G   0.03666   0.02139         0        10      3072: 100% 705/705 [29:10<00:00,  2.48s/it]\n",
            "     29/29     15.7G   0.03666   0.02139         0        10      3072: 100% 705/705 [29:10<00:00,  2.48s/it]\n",
            "               Class     Images     Labels          P          R     mAP@.5 mAP@.5:.95: 100% 1029/1029 [11:18<00:00,  1.52it/s]\n",
            "               Class     Images     Labels          P          R     mAP@.5 mAP@.5:.95: 100% 1029/1029 [11:18<00:00,  1.52it/s]\n",
            "                 all       8232       6384      0.661      0.656      0.682      0.534\n",
            "                 all       8232       6384      0.661      0.656      0.682      0.534\n",
            "\n",
            "30 epochs completed in 19.808 hours.\n",
            "\n",
            "30 epochs completed in 19.808 hours.\n",
            "Optimizer stripped from /content/gdrive/MyDrive/kaggle/Yolo5/kaggle-reef-5s/5s6_2176_01234/weights/last.pt, 26.7MB\n",
            "Optimizer stripped from /content/gdrive/MyDrive/kaggle/Yolo5/kaggle-reef-5s/5s6_2176_01234/weights/last.pt, 26.7MB\n",
            "Optimizer stripped from /content/gdrive/MyDrive/kaggle/Yolo5/kaggle-reef-5s/5s6_2176_01234/weights/best.pt, 26.7MB\n",
            "\n",
            "Validating /content/gdrive/MyDrive/kaggle/Yolo5/kaggle-reef-5s/5s6_2176_01234/weights/best.pt...\n",
            "Fusing layers... \n",
            "Optimizer stripped from /content/gdrive/MyDrive/kaggle/Yolo5/kaggle-reef-5s/5s6_2176_01234/weights/best.pt, 26.7MB\n",
            "\n",
            "Validating /content/gdrive/MyDrive/kaggle/Yolo5/kaggle-reef-5s/5s6_2176_01234/weights/best.pt...\n",
            "Fusing layers... \n",
            "Model Summary: 280 layers, 12300496 parameters, 0 gradients\n",
            "               Class     Images     Labels          P          R     mAP@.5 mAP@.5:.95:   0% 0/1029 [00:00<?, ?it/s]Model Summary: 280 layers, 12300496 parameters, 0 gradients\n",
            "               Class     Images     Labels          P          R     mAP@.5 mAP@.5:.95: 100% 1029/1029 [11:36<00:00,  1.48it/s]\n",
            "               Class     Images     Labels          P          R     mAP@.5 mAP@.5:.95: 100% 1029/1029 [11:36<00:00,  1.48it/s]\n",
            "                 all       8232       6384      0.656      0.681      0.701      0.543\n",
            "                 all       8232       6384      0.656      0.681      0.701      0.543\n",
            "Traceback (most recent call last):\n",
            "  File \"train.py\", line 638, in <module>\n",
            "    main(opt)\n",
            "  File \"train.py\", line 535, in main\n",
            "    train(opt.hyp, opt, device, callbacks)\n",
            "  File \"train.py\", line 446, in train\n",
            "    callbacks.run('on_train_end', last, best, plots, epoch, results)\n",
            "  File \"/kaggle/working/yolov5/utils/callbacks.py\", line 78, in run\n",
            "    logger['callback'](*args, **kwargs)\n",
            "  File \"/kaggle/working/yolov5/utils/loggers/__init__.py\", line 147, in on_train_end\n",
            "    plot_results(file=self.save_dir / 'results.csv')  # save results.png\n",
            "  File \"/kaggle/working/yolov5/utils/plots.py\", line 406, in plot_results\n",
            "    assert len(files), f'No results.csv files found in {save_dir.resolve()}, nothing to plot.'\n",
            "AssertionError: No results.csv files found in /content/gdrive/MyDrive/kaggle/Yolo5/kaggle-reef-5s/5s6_2176_01234, nothing to plot.\n",
            "Traceback (most recent call last):\n",
            "  File \"train.py\", line 638, in <module>\n",
            "    main(opt)\n",
            "  File \"train.py\", line 535, in main\n",
            "    train(opt.hyp, opt, device, callbacks)\n",
            "  File \"train.py\", line 446, in train\n",
            "    callbacks.run('on_train_end', last, best, plots, epoch, results)\n",
            "  File \"/kaggle/working/yolov5/utils/callbacks.py\", line 78, in run\n",
            "    logger['callback'](*args, **kwargs)\n",
            "  File \"/kaggle/working/yolov5/utils/loggers/__init__.py\", line 147, in on_train_end\n",
            "    plot_results(file=self.save_dir / 'results.csv')  # save results.png\n",
            "  File \"/kaggle/working/yolov5/utils/plots.py\", line 406, in plot_results\n",
            "    assert len(files), f'No results.csv files found in {save_dir.resolve()}, nothing to plot.'\n",
            "AssertionError: No results.csv files found in /content/gdrive/MyDrive/kaggle/Yolo5/kaggle-reef-5s/5s6_2176_01234, nothing to plot.\n",
            "\n",
            "\u001b[34m\u001b[1mwandb\u001b[0m: Waiting for W&B process to finish, PID 832... (failed 1). Press ctrl-c to abort syncing.\n",
            "\n",
            "\u001b[34m\u001b[1mwandb\u001b[0m: Waiting for W&B process to finish, PID 832... (failed 1). Press ctrl-c to abort syncing.\n",
            "\u001b[34m\u001b[1mwandb\u001b[0m:                                                                                \n",
            "\u001b[34m\u001b[1mwandb\u001b[0m:                                                                                \n",
            "\u001b[34m\u001b[1mwandb\u001b[0m: Run history:\n",
            "\u001b[34m\u001b[1mwandb\u001b[0m:             metrics/F2 ▁▆▅▇▇▇▇▆▇▇█▇▇▇████▇███████████\n",
            "\u001b[34m\u001b[1mwandb\u001b[0m:        metrics/mAP_0.5 ▁▅▅▇▇▇▇▆▇▇█▇█▇████▇██▇████████\n",
            "\u001b[34m\u001b[1mwandb\u001b[0m:   metrics/mAP_0.5:0.95 ▁▄▅▆▇▇▇▆▇▇▇▇▇▇█▇██▇██▇████████\n",
            "\u001b[34m\u001b[1mwandb\u001b[0m:      metrics/precision ▁▅▅▆▆▆▇▆▇▇▇▇▇█▇▇▇▇▇████████▇▇█\n",
            "\u001b[34m\u001b[1mwandb\u001b[0m:         metrics/recall ▁▆▅▆▇▇▇▆▇▇▇▇█▇▇███▇█▇▇███▇████\n",
            "\u001b[34m\u001b[1mwandb\u001b[0m:         train/box_loss █▆▄▃▃▃▃▃▂▂▂▂▂▂▂▂▂▂▁▁▁▁▁▁▁▁▁▁▁▁\n",
            "\u001b[34m\u001b[1mwandb\u001b[0m:         train/cls_loss ▁▁▁▁▁▁▁▁▁▁▁▁▁▁▁▁▁▁▁▁▁▁▁▁▁▁▁▁▁▁\n",
            "\u001b[34m\u001b[1mwandb\u001b[0m:         train/obj_loss █▆▄▃▃▃▃▂▂▂▂▂▂▂▂▂▂▂▂▂▂▁▁▁▁▁▁▁▁▁\n",
            "\u001b[34m\u001b[1mwandb\u001b[0m:           val/box_loss █▄▃▃▂▂▂▂▂▂▂▂▁▂▂▂▂▁▁▁▁▁▁▁▁▁▁▁▁▁\n",
            "\u001b[34m\u001b[1mwandb\u001b[0m:           val/cls_loss ▁▁▁▁▁▁▁▁▁▁▁▁▁▁▁▁▁▁▁▁▁▁▁▁▁▁▁▁▁▁\n",
            "\u001b[34m\u001b[1mwandb\u001b[0m:           val/obj_loss █▄▄▂▂▂▂▃▁▂▁▂▁▂▁▁▁▁▁▁▁▁▁▁▁▁▁▁▁▁\n",
            "\u001b[34m\u001b[1mwandb\u001b[0m:                  x/lr0 ▆██████▇▇▇▇▆▆▆▅▅▄▄▄▃▃▃▂▂▂▂▁▁▁▁\n",
            "\u001b[34m\u001b[1mwandb\u001b[0m:                  x/lr1 ▆██████▇▇▇▇▆▆▆▅▅▄▄▄▃▃▃▂▂▂▂▁▁▁▁\n",
            "\u001b[34m\u001b[1mwandb\u001b[0m:                  x/lr2 █▄▄▄▄▄▃▃▃▃▃▃▃▃▃▂▂▂▂▂▂▂▂▁▁▁▁▁▁▁\n",
            "\u001b[34m\u001b[1mwandb\u001b[0m: \n",
            "\u001b[34m\u001b[1mwandb\u001b[0m: Run summary:\n",
            "\u001b[34m\u001b[1mwandb\u001b[0m:                best/F2 0.67572\n",
            "\u001b[34m\u001b[1mwandb\u001b[0m:             best/epoch 22\n",
            "\u001b[34m\u001b[1mwandb\u001b[0m:           best/mAP_0.5 0.70125\n",
            "\u001b[34m\u001b[1mwandb\u001b[0m:      best/mAP_0.5:0.95 0.54321\n",
            "\u001b[34m\u001b[1mwandb\u001b[0m:         best/precision 0.65921\n",
            "\u001b[34m\u001b[1mwandb\u001b[0m:            best/recall 0.67998\n",
            "\u001b[34m\u001b[1mwandb\u001b[0m:             metrics/F2 0.65654\n",
            "\u001b[34m\u001b[1mwandb\u001b[0m:        metrics/mAP_0.5 0.68156\n",
            "\u001b[34m\u001b[1mwandb\u001b[0m:   metrics/mAP_0.5:0.95 0.53376\n",
            "\u001b[34m\u001b[1mwandb\u001b[0m:      metrics/precision 0.66053\n",
            "\u001b[34m\u001b[1mwandb\u001b[0m:         metrics/recall 0.65555\n",
            "\u001b[34m\u001b[1mwandb\u001b[0m:         train/box_loss 0.03666\n",
            "\u001b[34m\u001b[1mwandb\u001b[0m:         train/cls_loss 0.0\n",
            "\u001b[34m\u001b[1mwandb\u001b[0m:         train/obj_loss 0.02139\n",
            "\u001b[34m\u001b[1mwandb\u001b[0m:           val/box_loss 0.01362\n",
            "\u001b[34m\u001b[1mwandb\u001b[0m:           val/cls_loss 0.0\n",
            "\u001b[34m\u001b[1mwandb\u001b[0m:           val/obj_loss 0.00901\n",
            "\u001b[34m\u001b[1mwandb\u001b[0m:                  x/lr0 0.00129\n",
            "\u001b[34m\u001b[1mwandb\u001b[0m:                  x/lr1 0.00129\n",
            "\u001b[34m\u001b[1mwandb\u001b[0m:                  x/lr2 0.00129\n",
            "\u001b[34m\u001b[1mwandb\u001b[0m: \n",
            "\u001b[34m\u001b[1mwandb\u001b[0m: Synced 5 W&B file(s), 325 media file(s), 0 artifact file(s) and 0 other file(s)\n",
            "\u001b[34m\u001b[1mwandb\u001b[0m: Synced \u001b[33m5s6_2176_0123\u001b[0m: \u001b[34mhttps://wandb.ai/lzziuhh/kaggle-reef-5s/runs/1h6xh4p1\u001b[0m\n",
            "\u001b[34m\u001b[1mwandb\u001b[0m: Find logs at: ./wandb/run-20220123_133901-1h6xh4p1/logs/debug.log\n",
            "\u001b[34m\u001b[1mwandb\u001b[0m: \n",
            "\u001b[34m\u001b[1mwandb\u001b[0m: Run history:\n",
            "\u001b[34m\u001b[1mwandb\u001b[0m:             metrics/F2 ▁▆▅▇▇▇▇▆▇▇█▇▇▇████▇███████████\n",
            "\u001b[34m\u001b[1mwandb\u001b[0m:        metrics/mAP_0.5 ▁▅▅▇▇▇▇▆▇▇█▇█▇████▇██▇████████\n",
            "\u001b[34m\u001b[1mwandb\u001b[0m:   metrics/mAP_0.5:0.95 ▁▄▅▆▇▇▇▆▇▇▇▇▇▇█▇██▇██▇████████\n",
            "\u001b[34m\u001b[1mwandb\u001b[0m:      metrics/precision ▁▅▅▆▆▆▇▆▇▇▇▇▇█▇▇▇▇▇████████▇▇█\n",
            "\u001b[34m\u001b[1mwandb\u001b[0m:         metrics/recall ▁▆▅▆▇▇▇▆▇▇▇▇█▇▇███▇█▇▇███▇████\n",
            "\u001b[34m\u001b[1mwandb\u001b[0m:         train/box_loss █▆▄▃▃▃▃▃▂▂▂▂▂▂▂▂▂▂▁▁▁▁▁▁▁▁▁▁▁▁\n",
            "\u001b[34m\u001b[1mwandb\u001b[0m:         train/cls_loss ▁▁▁▁▁▁▁▁▁▁▁▁▁▁▁▁▁▁▁▁▁▁▁▁▁▁▁▁▁▁\n",
            "\u001b[34m\u001b[1mwandb\u001b[0m:         train/obj_loss █▆▄▃▃▃▃▂▂▂▂▂▂▂▂▂▂▂▂▂▂▁▁▁▁▁▁▁▁▁\n",
            "\u001b[34m\u001b[1mwandb\u001b[0m:           val/box_loss █▄▃▃▂▂▂▂▂▂▂▂▁▂▂▂▂▁▁▁▁▁▁▁▁▁▁▁▁▁\n",
            "\u001b[34m\u001b[1mwandb\u001b[0m:           val/cls_loss ▁▁▁▁▁▁▁▁▁▁▁▁▁▁▁▁▁▁▁▁▁▁▁▁▁▁▁▁▁▁\n",
            "\u001b[34m\u001b[1mwandb\u001b[0m:           val/obj_loss █▄▄▂▂▂▂▃▁▂▁▂▁▂▁▁▁▁▁▁▁▁▁▁▁▁▁▁▁▁\n",
            "\u001b[34m\u001b[1mwandb\u001b[0m:                  x/lr0 ▆██████▇▇▇▇▆▆▆▅▅▄▄▄▃▃▃▂▂▂▂▁▁▁▁\n",
            "\u001b[34m\u001b[1mwandb\u001b[0m:                  x/lr1 ▆██████▇▇▇▇▆▆▆▅▅▄▄▄▃▃▃▂▂▂▂▁▁▁▁\n",
            "\u001b[34m\u001b[1mwandb\u001b[0m:                  x/lr2 █▄▄▄▄▄▃▃▃▃▃▃▃▃▃▂▂▂▂▂▂▂▂▁▁▁▁▁▁▁\n",
            "\u001b[34m\u001b[1mwandb\u001b[0m: \n",
            "\u001b[34m\u001b[1mwandb\u001b[0m: Run summary:\n",
            "\u001b[34m\u001b[1mwandb\u001b[0m:                best/F2 0.67572\n",
            "\u001b[34m\u001b[1mwandb\u001b[0m:             best/epoch 22\n",
            "\u001b[34m\u001b[1mwandb\u001b[0m:           best/mAP_0.5 0.70125\n",
            "\u001b[34m\u001b[1mwandb\u001b[0m:      best/mAP_0.5:0.95 0.54321\n",
            "\u001b[34m\u001b[1mwandb\u001b[0m:         best/precision 0.65921\n",
            "\u001b[34m\u001b[1mwandb\u001b[0m:            best/recall 0.67998\n",
            "\u001b[34m\u001b[1mwandb\u001b[0m:             metrics/F2 0.65654\n",
            "\u001b[34m\u001b[1mwandb\u001b[0m:        metrics/mAP_0.5 0.68156\n",
            "\u001b[34m\u001b[1mwandb\u001b[0m:   metrics/mAP_0.5:0.95 0.53376\n",
            "\u001b[34m\u001b[1mwandb\u001b[0m:      metrics/precision 0.66053\n",
            "\u001b[34m\u001b[1mwandb\u001b[0m:         metrics/recall 0.65555\n",
            "\u001b[34m\u001b[1mwandb\u001b[0m:         train/box_loss 0.03666\n",
            "\u001b[34m\u001b[1mwandb\u001b[0m:         train/cls_loss 0.0\n",
            "\u001b[34m\u001b[1mwandb\u001b[0m:         train/obj_loss 0.02139\n",
            "\u001b[34m\u001b[1mwandb\u001b[0m:           val/box_loss 0.01362\n",
            "\u001b[34m\u001b[1mwandb\u001b[0m:           val/cls_loss 0.0\n",
            "\u001b[34m\u001b[1mwandb\u001b[0m:           val/obj_loss 0.00901\n",
            "\u001b[34m\u001b[1mwandb\u001b[0m:                  x/lr0 0.00129\n",
            "\u001b[34m\u001b[1mwandb\u001b[0m:                  x/lr1 0.00129\n",
            "\u001b[34m\u001b[1mwandb\u001b[0m:                  x/lr2 0.00129\n",
            "\u001b[34m\u001b[1mwandb\u001b[0m: \n",
            "\u001b[34m\u001b[1mwandb\u001b[0m: Synced 5 W&B file(s), 325 media file(s), 0 artifact file(s) and 0 other file(s)\n",
            "\u001b[34m\u001b[1mwandb\u001b[0m: Synced \u001b[33m5s6_2176_0123\u001b[0m: \u001b[34mhttps://wandb.ai/lzziuhh/kaggle-reef-5s/runs/1h6xh4p1\u001b[0m\n",
            "\u001b[34m\u001b[1mwandb\u001b[0m: Find logs at: ./wandb/run-20220123_133901-1h6xh4p1/logs/debug.log\n",
            "\u001b[34m\u001b[1mwandb\u001b[0m: \n"
          ]
        }
      ],
      "source": [
        "!python train.py --img 3072 \\\n",
        "                 --batch 4 \\\n",
        "                 --epochs 30 \\\n",
        "                 --data reef_f1_naive.yaml \\\n",
        "                 --weights yolov5s6.pt \\\n",
        "                 --project /content/gdrive/MyDrive/kaggle/Yolo5/kaggle-reef-5s \\\n",
        "                 --name 5s6_2176_0123 \\\n",
        "                 --hyp /content/hyp_evolve0119.yaml\n",
        "\n"
      ],
      "id": "oxGE1-0aZMqK"
    },
    {
      "cell_type": "code",
      "source": [
        ""
      ],
      "metadata": {
        "id": "Os8SEhsYhQC5"
      },
      "id": "Os8SEhsYhQC5",
      "execution_count": null,
      "outputs": []
    }
  ],
  "metadata": {
    "accelerator": "GPU",
    "colab": {
      "background_execution": "on",
      "collapsed_sections": [],
      "name": "yolov5-small-cots-training_improve.ipynb",
      "provenance": [],
      "include_colab_link": true
    },
    "kernelspec": {
      "display_name": "Python 3",
      "language": "python",
      "name": "python3"
    },
    "language_info": {
      "codemirror_mode": {
        "name": "ipython",
        "version": 3
      },
      "file_extension": ".py",
      "mimetype": "text/x-python",
      "name": "python",
      "nbconvert_exporter": "python",
      "pygments_lexer": "ipython3",
      "version": "3.7.10"
    },
    "papermill": {
      "default_parameters": {},
      "duration": 16816.423469,
      "end_time": "2021-11-29T13:59:33.800026",
      "environment_variables": {},
      "exception": null,
      "input_path": "__notebook__.ipynb",
      "output_path": "__notebook__.ipynb",
      "parameters": {},
      "start_time": "2021-11-29T09:19:17.376557",
      "version": "2.3.3"
    }
  },
  "nbformat": 4,
  "nbformat_minor": 5
}