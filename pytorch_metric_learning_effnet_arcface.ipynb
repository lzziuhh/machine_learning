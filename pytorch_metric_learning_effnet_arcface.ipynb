{
  "cells": [
    {
      "cell_type": "markdown",
      "metadata": {
        "id": "view-in-github",
        "colab_type": "text"
      },
      "source": [
        "<a href=\"https://colab.research.google.com/github/lzziuhh/machine_learning/blob/master/pytorch_metric_learning_effnet_arcface.ipynb\" target=\"_parent\"><img src=\"https://colab.research.google.com/assets/colab-badge.svg\" alt=\"Open In Colab\"/></a>"
      ]
    },
    {
      "cell_type": "markdown",
      "id": "a2a9526b",
      "metadata": {
        "papermill": {
          "duration": 0.094135,
          "end_time": "2022-02-19T13:39:35.325358",
          "exception": false,
          "start_time": "2022-02-19T13:39:35.231223",
          "status": "completed"
        },
        "tags": [],
        "id": "a2a9526b"
      },
      "source": [
        "[<img src=\"https://github.com/KevinMusgrave/pytorch-metric-learning/raw/master/docs/imgs/Logo2.png\">]()\n",
        "\n",
        "## Introduction\n",
        "\n",
        "This notebook makes use of the fantastic library `pytorch-metric-learning` developed and maintained by Kevin Musgrave. You can find the github at the following link:\n",
        "\n",
        "- https://github.com/KevinMusgrave/pytorch-metric-learning\n",
        "\n",
        "You can find a ton of useful metric learning modules there, along with a super friendly API for rapid training and evaluation. I recommend reading through the example notebooks because they are very well put together (below borrows from them heavily).\n",
        "\n",
        "Here we use the library to train a basic whale detector using an efficient net backbone (https://arxiv.org/abs/1905.11946) with ArcFace loss (https://arxiv.org/abs/1801.07698). This is a very straightforward example and there are many ways to improve. Here are some suggestions:\n",
        "\n",
        "- Change the train/validation split to better resemble the public LB.\n",
        "- Change the model trunk.\n",
        "- Pre-process the images by e.g. applying bounding boxes.\n",
        "- Experiment with the training proceedure.\n",
        "\n",
        "I will continue to develop this notebook over time and hopefully improve the results.\n",
        "\n",
        "All feedback appreciated."
      ]
    },
    {
      "cell_type": "markdown",
      "id": "9c5d3d6b",
      "metadata": {
        "papermill": {
          "duration": 0.055881,
          "end_time": "2022-02-19T13:39:35.444130",
          "exception": false,
          "start_time": "2022-02-19T13:39:35.388249",
          "status": "completed"
        },
        "tags": [],
        "id": "9c5d3d6b"
      },
      "source": [
        "**Change Log**\n",
        "\n",
        "- Version 9: switched to 384x384 dataset, added training augmentation, and switched from Adam to SGD with cosine schedule.\n",
        "- Version 8 (LB: 0.245): fixed bug where same individual predicted multiple times for single image and increased the KNN search range.\n",
        "- Version 6 (LB: 0.229): switched to cropped YOLO5 input, switched to b3 model, reduced epochs, and updated logging.\n",
        "- Version 4 (LB: 0.190): initial notebook completed."
      ]
    },
    {
      "cell_type": "markdown",
      "source": [
        "## Check GPU Type"
      ],
      "metadata": {
        "id": "WfP6Gq3VRvmX"
      },
      "id": "WfP6Gq3VRvmX"
    },
    {
      "cell_type": "code",
      "source": [
        "gpu_info = !nvidia-smi\n",
        "gpu_info = '\\n'.join(gpu_info)\n",
        "if gpu_info.find('failed') >= 0:\n",
        "  print('Not connected to a GPU')\n",
        "else:\n",
        "  print(gpu_info)"
      ],
      "metadata": {
        "colab": {
          "base_uri": "https://localhost:8080/"
        },
        "id": "5AOE65joK1_P",
        "outputId": "907f65a4-bb21-44f8-8fba-9980dbc0d2af"
      },
      "id": "5AOE65joK1_P",
      "execution_count": 1,
      "outputs": [
        {
          "output_type": "stream",
          "name": "stdout",
          "text": [
            "Mon Feb 21 23:09:08 2022       \n",
            "+-----------------------------------------------------------------------------+\n",
            "| NVIDIA-SMI 460.32.03    Driver Version: 460.32.03    CUDA Version: 11.2     |\n",
            "|-------------------------------+----------------------+----------------------+\n",
            "| GPU  Name        Persistence-M| Bus-Id        Disp.A | Volatile Uncorr. ECC |\n",
            "| Fan  Temp  Perf  Pwr:Usage/Cap|         Memory-Usage | GPU-Util  Compute M. |\n",
            "|                               |                      |               MIG M. |\n",
            "|===============================+======================+======================|\n",
            "|   0  Tesla V100-SXM2...  Off  | 00000000:00:04.0 Off |                    0 |\n",
            "| N/A   34C    P0    22W / 300W |      0MiB / 16160MiB |      0%      Default |\n",
            "|                               |                      |                  N/A |\n",
            "+-------------------------------+----------------------+----------------------+\n",
            "                                                                               \n",
            "+-----------------------------------------------------------------------------+\n",
            "| Processes:                                                                  |\n",
            "|  GPU   GI   CI        PID   Type   Process name                  GPU Memory |\n",
            "|        ID   ID                                                   Usage      |\n",
            "|=============================================================================|\n",
            "|  No running processes found                                                 |\n",
            "+-----------------------------------------------------------------------------+\n"
          ]
        }
      ]
    },
    {
      "cell_type": "markdown",
      "metadata": {
        "id": "wYGAK_lnl-EK"
      },
      "source": [
        "# Google drive connection"
      ],
      "id": "wYGAK_lnl-EK"
    },
    {
      "cell_type": "code",
      "execution_count": 2,
      "metadata": {
        "colab": {
          "base_uri": "https://localhost:8080/"
        },
        "id": "_BBM6Hswo868",
        "outputId": "b89eb345-fbce-4129-a93e-03bbd45e3ddf"
      },
      "outputs": [
        {
          "output_type": "stream",
          "name": "stdout",
          "text": [
            "Mounted at /content/gdrive\n",
            " bangali\t    download\t       JTdemo  'My Drive'\n",
            "'Colab Notebooks'   download.gslides   kaggle\n"
          ]
        }
      ],
      "source": [
        "import glob\n",
        "from google.colab import drive\n",
        "drive.mount('/content/gdrive')\n",
        "\n",
        "!ln -s /content/gdrive/My\\ Drive/ /mydrive\n",
        "\n",
        "!ls /mydrive"
      ],
      "id": "_BBM6Hswo868"
    },
    {
      "cell_type": "markdown",
      "metadata": {
        "id": "up9Va0MRwO4X"
      },
      "source": [
        ""
      ],
      "id": "up9Va0MRwO4X"
    },
    {
      "cell_type": "markdown",
      "metadata": {
        "id": "DIf2PtekjPtY"
      },
      "source": [
        "# Installing the [Kaggle API](https://github.com/Kaggle/kaggle-api) in Colab"
      ],
      "id": "DIf2PtekjPtY"
    },
    {
      "cell_type": "code",
      "execution_count": 3,
      "metadata": {
        "colab": {
          "base_uri": "https://localhost:8080/"
        },
        "id": "OppyMnCuWjzJ",
        "outputId": "7db0868e-9d8a-4dd5-be9a-43b766ff46cf"
      },
      "outputs": [
        {
          "output_type": "stream",
          "name": "stdout",
          "text": [
            "Requirement already satisfied: kaggle in /usr/local/lib/python3.7/dist-packages (1.5.12)\n",
            "Requirement already satisfied: certifi in /usr/local/lib/python3.7/dist-packages (from kaggle) (2021.10.8)\n",
            "Requirement already satisfied: python-dateutil in /usr/local/lib/python3.7/dist-packages (from kaggle) (2.8.2)\n",
            "Requirement already satisfied: tqdm in /usr/local/lib/python3.7/dist-packages (from kaggle) (4.62.3)\n",
            "Requirement already satisfied: python-slugify in /usr/local/lib/python3.7/dist-packages (from kaggle) (5.0.2)\n",
            "Requirement already satisfied: six>=1.10 in /usr/local/lib/python3.7/dist-packages (from kaggle) (1.15.0)\n",
            "Requirement already satisfied: urllib3 in /usr/local/lib/python3.7/dist-packages (from kaggle) (1.24.3)\n",
            "Requirement already satisfied: requests in /usr/local/lib/python3.7/dist-packages (from kaggle) (2.23.0)\n",
            "Requirement already satisfied: text-unidecode>=1.3 in /usr/local/lib/python3.7/dist-packages (from python-slugify->kaggle) (1.3)\n",
            "Requirement already satisfied: chardet<4,>=3.0.2 in /usr/local/lib/python3.7/dist-packages (from requests->kaggle) (3.0.4)\n",
            "Requirement already satisfied: idna<3,>=2.5 in /usr/local/lib/python3.7/dist-packages (from requests->kaggle) (2.10)\n"
          ]
        }
      ],
      "source": [
        "!pip install kaggle"
      ],
      "id": "OppyMnCuWjzJ"
    },
    {
      "cell_type": "markdown",
      "metadata": {
        "id": "hMY4CFezjcG-"
      },
      "source": [
        "# Authenticating with Kaggle using kaggle.json\n",
        "\n",
        "Navigate to https://www.kaggle.com. Then go to the [Account tab of your user profile](https://www.kaggle.com/me/account) and select Create API Token. This will trigger the download of kaggle.json, a file containing your API credentials.\n",
        "\n",
        "Then run the cell below to upload kaggle.json to your Colab runtime."
      ],
      "id": "hMY4CFezjcG-"
    },
    {
      "cell_type": "code",
      "execution_count": 4,
      "metadata": {
        "colab": {
          "base_uri": "https://localhost:8080/",
          "height": 92,
          "resources": {
            "http://localhost:8080/nbextensions/google.colab/files.js": {
              "data": "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",
              "headers": [
                [
                  "content-type",
                  "application/javascript"
                ]
              ],
              "ok": true,
              "status": 200,
              "status_text": ""
            }
          }
        },
        "id": "0HtGf0HEXEa5",
        "outputId": "a4b8e5b0-b36a-496a-a35d-73b5503cddc3"
      },
      "outputs": [
        {
          "output_type": "display_data",
          "data": {
            "text/html": [
              "\n",
              "     <input type=\"file\" id=\"files-7a0a1f11-b559-48aa-9a0f-0ba9e6dd9754\" name=\"files[]\" multiple disabled\n",
              "        style=\"border:none\" />\n",
              "     <output id=\"result-7a0a1f11-b559-48aa-9a0f-0ba9e6dd9754\">\n",
              "      Upload widget is only available when the cell has been executed in the\n",
              "      current browser session. Please rerun this cell to enable.\n",
              "      </output>\n",
              "      <script src=\"/nbextensions/google.colab/files.js\"></script> "
            ],
            "text/plain": [
              "<IPython.core.display.HTML object>"
            ]
          },
          "metadata": {}
        },
        {
          "output_type": "stream",
          "name": "stdout",
          "text": [
            "Saving kaggle.json to kaggle.json\n",
            "User uploaded file \"kaggle.json\" with length 68 bytes\n"
          ]
        }
      ],
      "source": [
        "from google.colab import files\n",
        "\n",
        "uploaded = files.upload()\n",
        "\n",
        "for fn in uploaded.keys():\n",
        "  print('User uploaded file \"{name}\" with length {length} bytes'.format(\n",
        "      name=fn, length=len(uploaded[fn])))\n",
        "  \n",
        "# Then move kaggle.json into the folder where the API expects to find it.\n",
        "!mkdir -p ~/.kaggle/ && mv kaggle.json ~/.kaggle/ && chmod 600 ~/.kaggle/kaggle.json"
      ],
      "id": "0HtGf0HEXEa5"
    },
    {
      "cell_type": "markdown",
      "metadata": {
        "id": "HMk7Zz4ZkpCe"
      },
      "source": [
        "# Using the Kaggle API\n",
        "\n",
        "For a more complete list of what you can do with the API, visit https://github.com/Kaggle/kaggle-api."
      ],
      "id": "HMk7Zz4ZkpCe"
    },
    {
      "cell_type": "markdown",
      "metadata": {
        "id": "SHVqmMXfilWG"
      },
      "source": [
        "## Listing competitions"
      ],
      "id": "SHVqmMXfilWG"
    },
    {
      "cell_type": "code",
      "execution_count": 5,
      "metadata": {
        "colab": {
          "base_uri": "https://localhost:8080/"
        },
        "id": "Oqt7Yfi5aQuM",
        "outputId": "5969cecb-66a9-4dcb-c274-466e28c99bd7"
      },
      "outputs": [
        {
          "output_type": "stream",
          "name": "stdout",
          "text": [
            "Warning: Looks like you're using an outdated API Version, please consider updating (server 1.5.12 / client 1.5.4)\n",
            "ref                                            deadline             category            reward  teamCount  userHasEntered  \n",
            "---------------------------------------------  -------------------  ---------------  ---------  ---------  --------------  \n",
            "contradictory-my-dear-watson                   2030-07-01 23:59:00  Getting Started     Prizes         67           False  \n",
            "gan-getting-started                            2030-07-01 23:59:00  Getting Started     Prizes         95           False  \n",
            "store-sales-time-series-forecasting            2030-06-30 23:59:00  Getting Started  Knowledge        782           False  \n",
            "tpu-getting-started                            2030-06-03 23:59:00  Getting Started  Knowledge        163           False  \n",
            "digit-recognizer                               2030-01-01 00:00:00  Getting Started  Knowledge       1791           False  \n",
            "titanic                                        2030-01-01 00:00:00  Getting Started  Knowledge      13634            True  \n",
            "house-prices-advanced-regression-techniques    2030-01-01 00:00:00  Getting Started  Knowledge       4362           False  \n",
            "connectx                                       2030-01-01 00:00:00  Getting Started  Knowledge        221            True  \n",
            "nlp-getting-started                            2030-01-01 00:00:00  Getting Started  Knowledge        823            True  \n",
            "competitive-data-science-predict-future-sales  2022-12-31 23:59:00  Playground           Kudos      13589           False  \n",
            "herbarium-2022-fgvc9                           2022-05-30 23:59:00  Research         Knowledge         20           False  \n",
            "birdclef-2022                                  2022-05-24 23:59:00  Research           $10,000         73           False  \n",
            "h-and-m-personalized-fashion-recommendations   2022-05-09 23:59:00  Featured           $50,000        600            True  \n",
            "g-research-crypto-forecasting                  2022-05-03 23:59:00  Featured          $125,000       2194           False  \n",
            "nbme-score-clinical-patient-notes              2022-05-03 23:59:00  Featured           $50,000        385           False  \n",
            "happy-whale-and-dolphin                        2022-04-18 23:59:00  Research           $25,000        588            True  \n",
            "ubiquant-market-prediction                     2022-04-18 23:59:00  Featured          $100,000       1566            True  \n",
            "womens-march-mania-2022                        2022-03-18 15:00:00  Featured           $25,000         64           False  \n",
            "mens-march-mania-2022                          2022-03-17 15:00:00  Featured           $25,000        113           False  \n",
            "feedback-prize-2021                            2022-03-15 23:59:00  Featured          $160,000       1612            True  \n"
          ]
        }
      ],
      "source": [
        "!kaggle competitions list"
      ],
      "id": "Oqt7Yfi5aQuM"
    },
    {
      "cell_type": "markdown",
      "source": [
        "## download dataset"
      ],
      "metadata": {
        "id": "4psVOQbRSjBI"
      },
      "id": "4psVOQbRSjBI"
    },
    {
      "cell_type": "code",
      "source": [
        "!kaggle datasets download -d rdizzl3/jpeg-happywhale-384x384"
      ],
      "metadata": {
        "colab": {
          "base_uri": "https://localhost:8080/"
        },
        "id": "Luqt8JgBR1H0",
        "outputId": "388f2b02-c242-45ae-82e7-c3f4fd1be3bb"
      },
      "id": "Luqt8JgBR1H0",
      "execution_count": 6,
      "outputs": [
        {
          "output_type": "stream",
          "name": "stdout",
          "text": [
            "Downloading jpeg-happywhale-384x384.zip to /content\n",
            "100% 4.41G/4.42G [01:06<00:00, 37.0MB/s]\n",
            "100% 4.42G/4.42G [01:06<00:00, 71.2MB/s]\n"
          ]
        }
      ]
    },
    {
      "cell_type": "code",
      "source": [
        "# unzip the download dataset\n",
        "!mkdir /kaggle\n",
        "!mkdir /kaggle/input\n",
        "!mkdir /kaggle/logs\n",
        "!mkdir /kaggle/models\n"
      ],
      "metadata": {
        "id": "ksfj8g2bR1K1"
      },
      "id": "ksfj8g2bR1K1",
      "execution_count": 7,
      "outputs": []
    },
    {
      "cell_type": "code",
      "source": [
        "!unzip -q ./jpeg-happywhale-384x384.zip -d /kaggle/input/"
      ],
      "metadata": {
        "id": "E7Sx7C6iR1N4"
      },
      "id": "E7Sx7C6iR1N4",
      "execution_count": 8,
      "outputs": []
    },
    {
      "cell_type": "code",
      "source": [
        "# !kaggle competitions files  happy-whale-and-dolphin/train.csv"
      ],
      "metadata": {
        "id": "WguLMxwrVWMZ"
      },
      "id": "WguLMxwrVWMZ",
      "execution_count": 9,
      "outputs": []
    },
    {
      "cell_type": "markdown",
      "id": "4b483b67",
      "metadata": {
        "papermill": {
          "duration": 0.068744,
          "end_time": "2022-02-19T13:39:35.598289",
          "exception": false,
          "start_time": "2022-02-19T13:39:35.529545",
          "status": "completed"
        },
        "tags": [],
        "id": "4b483b67"
      },
      "source": [
        "## Dependencies"
      ]
    },
    {
      "cell_type": "code",
      "execution_count": 10,
      "id": "2c3d28c7",
      "metadata": {
        "_kg_hide-input": true,
        "_kg_hide-output": true,
        "execution": {
          "iopub.execute_input": "2022-02-19T13:39:35.719363Z",
          "iopub.status.busy": "2022-02-19T13:39:35.718563Z",
          "iopub.status.idle": "2022-02-19T13:39:58.245034Z",
          "shell.execute_reply": "2022-02-19T13:39:58.244418Z",
          "shell.execute_reply.started": "2022-02-19T13:33:26.424439Z"
        },
        "papermill": {
          "duration": 22.591048,
          "end_time": "2022-02-19T13:39:58.245199",
          "exception": false,
          "start_time": "2022-02-19T13:39:35.654151",
          "status": "completed"
        },
        "tags": [],
        "colab": {
          "base_uri": "https://localhost:8080/"
        },
        "id": "2c3d28c7",
        "outputId": "a93eccbd-6f49-4d2e-c9ee-ddec4292a5b8"
      },
      "outputs": [
        {
          "output_type": "stream",
          "name": "stdout",
          "text": [
            "Collecting timm\n",
            "  Downloading timm-0.5.4-py3-none-any.whl (431 kB)\n",
            "\u001b[?25l\r\u001b[K     |▊                               | 10 kB 22.5 MB/s eta 0:00:01\r\u001b[K     |█▌                              | 20 kB 30.3 MB/s eta 0:00:01\r\u001b[K     |██▎                             | 30 kB 36.1 MB/s eta 0:00:01\r\u001b[K     |███                             | 40 kB 34.6 MB/s eta 0:00:01\r\u001b[K     |███▉                            | 51 kB 14.7 MB/s eta 0:00:01\r\u001b[K     |████▋                           | 61 kB 17.0 MB/s eta 0:00:01\r\u001b[K     |█████▎                          | 71 kB 14.1 MB/s eta 0:00:01\r\u001b[K     |██████                          | 81 kB 11.7 MB/s eta 0:00:01\r\u001b[K     |██████▉                         | 92 kB 13.0 MB/s eta 0:00:01\r\u001b[K     |███████▋                        | 102 kB 13.6 MB/s eta 0:00:01\r\u001b[K     |████████▍                       | 112 kB 13.6 MB/s eta 0:00:01\r\u001b[K     |█████████▏                      | 122 kB 13.6 MB/s eta 0:00:01\r\u001b[K     |█████████▉                      | 133 kB 13.6 MB/s eta 0:00:01\r\u001b[K     |██████████▋                     | 143 kB 13.6 MB/s eta 0:00:01\r\u001b[K     |███████████▍                    | 153 kB 13.6 MB/s eta 0:00:01\r\u001b[K     |████████████▏                   | 163 kB 13.6 MB/s eta 0:00:01\r\u001b[K     |█████████████                   | 174 kB 13.6 MB/s eta 0:00:01\r\u001b[K     |█████████████▊                  | 184 kB 13.6 MB/s eta 0:00:01\r\u001b[K     |██████████████▍                 | 194 kB 13.6 MB/s eta 0:00:01\r\u001b[K     |███████████████▏                | 204 kB 13.6 MB/s eta 0:00:01\r\u001b[K     |████████████████                | 215 kB 13.6 MB/s eta 0:00:01\r\u001b[K     |████████████████▊               | 225 kB 13.6 MB/s eta 0:00:01\r\u001b[K     |█████████████████▌              | 235 kB 13.6 MB/s eta 0:00:01\r\u001b[K     |██████████████████▎             | 245 kB 13.6 MB/s eta 0:00:01\r\u001b[K     |███████████████████             | 256 kB 13.6 MB/s eta 0:00:01\r\u001b[K     |███████████████████▊            | 266 kB 13.6 MB/s eta 0:00:01\r\u001b[K     |████████████████████▌           | 276 kB 13.6 MB/s eta 0:00:01\r\u001b[K     |█████████████████████▎          | 286 kB 13.6 MB/s eta 0:00:01\r\u001b[K     |██████████████████████          | 296 kB 13.6 MB/s eta 0:00:01\r\u001b[K     |██████████████████████▉         | 307 kB 13.6 MB/s eta 0:00:01\r\u001b[K     |███████████████████████▌        | 317 kB 13.6 MB/s eta 0:00:01\r\u001b[K     |████████████████████████▎       | 327 kB 13.6 MB/s eta 0:00:01\r\u001b[K     |█████████████████████████       | 337 kB 13.6 MB/s eta 0:00:01\r\u001b[K     |█████████████████████████▉      | 348 kB 13.6 MB/s eta 0:00:01\r\u001b[K     |██████████████████████████▋     | 358 kB 13.6 MB/s eta 0:00:01\r\u001b[K     |███████████████████████████▍    | 368 kB 13.6 MB/s eta 0:00:01\r\u001b[K     |████████████████████████████    | 378 kB 13.6 MB/s eta 0:00:01\r\u001b[K     |████████████████████████████▉   | 389 kB 13.6 MB/s eta 0:00:01\r\u001b[K     |█████████████████████████████▋  | 399 kB 13.6 MB/s eta 0:00:01\r\u001b[K     |██████████████████████████████▍ | 409 kB 13.6 MB/s eta 0:00:01\r\u001b[K     |███████████████████████████████▏| 419 kB 13.6 MB/s eta 0:00:01\r\u001b[K     |████████████████████████████████| 430 kB 13.6 MB/s eta 0:00:01\r\u001b[K     |████████████████████████████████| 431 kB 13.6 MB/s \n",
            "\u001b[?25hRequirement already satisfied: torchvision in /usr/local/lib/python3.7/dist-packages (from timm) (0.11.1+cu111)\n",
            "Requirement already satisfied: torch>=1.4 in /usr/local/lib/python3.7/dist-packages (from timm) (1.10.0+cu111)\n",
            "Requirement already satisfied: typing-extensions in /usr/local/lib/python3.7/dist-packages (from torch>=1.4->timm) (3.10.0.2)\n",
            "Requirement already satisfied: numpy in /usr/local/lib/python3.7/dist-packages (from torchvision->timm) (1.21.5)\n",
            "Requirement already satisfied: pillow!=8.3.0,>=5.3.0 in /usr/local/lib/python3.7/dist-packages (from torchvision->timm) (7.1.2)\n",
            "Installing collected packages: timm\n",
            "Successfully installed timm-0.5.4\n",
            "Collecting pytorch-metric-learning[with-hooks]\n",
            "  Downloading pytorch_metric_learning-1.1.2-py3-none-any.whl (106 kB)\n",
            "\u001b[K     |████████████████████████████████| 106 kB 15.2 MB/s \n",
            "\u001b[?25hRequirement already satisfied: scikit-learn in /usr/local/lib/python3.7/dist-packages (from pytorch-metric-learning[with-hooks]) (1.0.2)\n",
            "Requirement already satisfied: numpy in /usr/local/lib/python3.7/dist-packages (from pytorch-metric-learning[with-hooks]) (1.21.5)\n",
            "Requirement already satisfied: tqdm in /usr/local/lib/python3.7/dist-packages (from pytorch-metric-learning[with-hooks]) (4.62.3)\n",
            "Requirement already satisfied: torchvision in /usr/local/lib/python3.7/dist-packages (from pytorch-metric-learning[with-hooks]) (0.11.1+cu111)\n",
            "Requirement already satisfied: torch>=1.6.0 in /usr/local/lib/python3.7/dist-packages (from pytorch-metric-learning[with-hooks]) (1.10.0+cu111)\n",
            "Requirement already satisfied: tensorboard in /usr/local/lib/python3.7/dist-packages (from pytorch-metric-learning[with-hooks]) (2.8.0)\n",
            "Collecting record-keeper>=0.9.31\n",
            "  Downloading record_keeper-0.9.31-py3-none-any.whl (8.2 kB)\n",
            "Collecting faiss-gpu>=1.6.3\n",
            "  Downloading faiss_gpu-1.7.2-cp37-cp37m-manylinux_2_17_x86_64.manylinux2014_x86_64.whl (85.5 MB)\n",
            "\u001b[K     |████████████████████████████████| 85.5 MB 108 kB/s \n",
            "\u001b[?25hRequirement already satisfied: typing-extensions in /usr/local/lib/python3.7/dist-packages (from torch>=1.6.0->pytorch-metric-learning[with-hooks]) (3.10.0.2)\n",
            "Requirement already satisfied: joblib>=0.11 in /usr/local/lib/python3.7/dist-packages (from scikit-learn->pytorch-metric-learning[with-hooks]) (1.1.0)\n",
            "Requirement already satisfied: threadpoolctl>=2.0.0 in /usr/local/lib/python3.7/dist-packages (from scikit-learn->pytorch-metric-learning[with-hooks]) (3.1.0)\n",
            "Requirement already satisfied: scipy>=1.1.0 in /usr/local/lib/python3.7/dist-packages (from scikit-learn->pytorch-metric-learning[with-hooks]) (1.4.1)\n",
            "Requirement already satisfied: setuptools>=41.0.0 in /usr/local/lib/python3.7/dist-packages (from tensorboard->pytorch-metric-learning[with-hooks]) (57.4.0)\n",
            "Requirement already satisfied: google-auth-oauthlib<0.5,>=0.4.1 in /usr/local/lib/python3.7/dist-packages (from tensorboard->pytorch-metric-learning[with-hooks]) (0.4.6)\n",
            "Requirement already satisfied: werkzeug>=0.11.15 in /usr/local/lib/python3.7/dist-packages (from tensorboard->pytorch-metric-learning[with-hooks]) (1.0.1)\n",
            "Requirement already satisfied: tensorboard-plugin-wit>=1.6.0 in /usr/local/lib/python3.7/dist-packages (from tensorboard->pytorch-metric-learning[with-hooks]) (1.8.1)\n",
            "Requirement already satisfied: markdown>=2.6.8 in /usr/local/lib/python3.7/dist-packages (from tensorboard->pytorch-metric-learning[with-hooks]) (3.3.6)\n",
            "Requirement already satisfied: wheel>=0.26 in /usr/local/lib/python3.7/dist-packages (from tensorboard->pytorch-metric-learning[with-hooks]) (0.37.1)\n",
            "Requirement already satisfied: grpcio>=1.24.3 in /usr/local/lib/python3.7/dist-packages (from tensorboard->pytorch-metric-learning[with-hooks]) (1.43.0)\n",
            "Requirement already satisfied: tensorboard-data-server<0.7.0,>=0.6.0 in /usr/local/lib/python3.7/dist-packages (from tensorboard->pytorch-metric-learning[with-hooks]) (0.6.1)\n",
            "Requirement already satisfied: absl-py>=0.4 in /usr/local/lib/python3.7/dist-packages (from tensorboard->pytorch-metric-learning[with-hooks]) (1.0.0)\n",
            "Requirement already satisfied: protobuf>=3.6.0 in /usr/local/lib/python3.7/dist-packages (from tensorboard->pytorch-metric-learning[with-hooks]) (3.17.3)\n",
            "Requirement already satisfied: requests<3,>=2.21.0 in /usr/local/lib/python3.7/dist-packages (from tensorboard->pytorch-metric-learning[with-hooks]) (2.23.0)\n",
            "Requirement already satisfied: google-auth<3,>=1.6.3 in /usr/local/lib/python3.7/dist-packages (from tensorboard->pytorch-metric-learning[with-hooks]) (1.35.0)\n",
            "Requirement already satisfied: six in /usr/local/lib/python3.7/dist-packages (from absl-py>=0.4->tensorboard->pytorch-metric-learning[with-hooks]) (1.15.0)\n",
            "Requirement already satisfied: cachetools<5.0,>=2.0.0 in /usr/local/lib/python3.7/dist-packages (from google-auth<3,>=1.6.3->tensorboard->pytorch-metric-learning[with-hooks]) (4.2.4)\n",
            "Requirement already satisfied: pyasn1-modules>=0.2.1 in /usr/local/lib/python3.7/dist-packages (from google-auth<3,>=1.6.3->tensorboard->pytorch-metric-learning[with-hooks]) (0.2.8)\n",
            "Requirement already satisfied: rsa<5,>=3.1.4 in /usr/local/lib/python3.7/dist-packages (from google-auth<3,>=1.6.3->tensorboard->pytorch-metric-learning[with-hooks]) (4.8)\n",
            "Requirement already satisfied: requests-oauthlib>=0.7.0 in /usr/local/lib/python3.7/dist-packages (from google-auth-oauthlib<0.5,>=0.4.1->tensorboard->pytorch-metric-learning[with-hooks]) (1.3.1)\n",
            "Requirement already satisfied: importlib-metadata>=4.4 in /usr/local/lib/python3.7/dist-packages (from markdown>=2.6.8->tensorboard->pytorch-metric-learning[with-hooks]) (4.11.0)\n",
            "Requirement already satisfied: zipp>=0.5 in /usr/local/lib/python3.7/dist-packages (from importlib-metadata>=4.4->markdown>=2.6.8->tensorboard->pytorch-metric-learning[with-hooks]) (3.7.0)\n",
            "Requirement already satisfied: pyasn1<0.5.0,>=0.4.6 in /usr/local/lib/python3.7/dist-packages (from pyasn1-modules>=0.2.1->google-auth<3,>=1.6.3->tensorboard->pytorch-metric-learning[with-hooks]) (0.4.8)\n",
            "Requirement already satisfied: chardet<4,>=3.0.2 in /usr/local/lib/python3.7/dist-packages (from requests<3,>=2.21.0->tensorboard->pytorch-metric-learning[with-hooks]) (3.0.4)\n",
            "Requirement already satisfied: idna<3,>=2.5 in /usr/local/lib/python3.7/dist-packages (from requests<3,>=2.21.0->tensorboard->pytorch-metric-learning[with-hooks]) (2.10)\n",
            "Requirement already satisfied: urllib3!=1.25.0,!=1.25.1,<1.26,>=1.21.1 in /usr/local/lib/python3.7/dist-packages (from requests<3,>=2.21.0->tensorboard->pytorch-metric-learning[with-hooks]) (1.24.3)\n",
            "Requirement already satisfied: certifi>=2017.4.17 in /usr/local/lib/python3.7/dist-packages (from requests<3,>=2.21.0->tensorboard->pytorch-metric-learning[with-hooks]) (2021.10.8)\n",
            "Requirement already satisfied: oauthlib>=3.0.0 in /usr/local/lib/python3.7/dist-packages (from requests-oauthlib>=0.7.0->google-auth-oauthlib<0.5,>=0.4.1->tensorboard->pytorch-metric-learning[with-hooks]) (3.2.0)\n",
            "Requirement already satisfied: pillow!=8.3.0,>=5.3.0 in /usr/local/lib/python3.7/dist-packages (from torchvision->pytorch-metric-learning[with-hooks]) (7.1.2)\n",
            "Installing collected packages: record-keeper, pytorch-metric-learning, faiss-gpu\n",
            "Successfully installed faiss-gpu-1.7.2 pytorch-metric-learning-1.1.2 record-keeper-0.9.31\n"
          ]
        }
      ],
      "source": [
        "!pip install timm\n",
        "!pip install pytorch-metric-learning[with-hooks]"
      ]
    },
    {
      "cell_type": "markdown",
      "id": "5987ab49",
      "metadata": {
        "papermill": {
          "duration": 0.092322,
          "end_time": "2022-02-19T13:39:58.431714",
          "exception": false,
          "start_time": "2022-02-19T13:39:58.339392",
          "status": "completed"
        },
        "tags": [],
        "id": "5987ab49"
      },
      "source": [
        "## Imports"
      ]
    },
    {
      "cell_type": "code",
      "execution_count": 11,
      "id": "eee9bc2b",
      "metadata": {
        "execution": {
          "iopub.execute_input": "2022-02-19T13:39:58.625412Z",
          "iopub.status.busy": "2022-02-19T13:39:58.624580Z",
          "iopub.status.idle": "2022-02-19T13:40:01.944367Z",
          "shell.execute_reply": "2022-02-19T13:40:01.943534Z",
          "shell.execute_reply.started": "2022-02-19T13:33:47.258424Z"
        },
        "papermill": {
          "duration": 3.420482,
          "end_time": "2022-02-19T13:40:01.944507",
          "exception": false,
          "start_time": "2022-02-19T13:39:58.524025",
          "status": "completed"
        },
        "tags": [],
        "colab": {
          "base_uri": "https://localhost:8080/"
        },
        "id": "eee9bc2b",
        "outputId": "daffe754-30ef-4a52-b502-e2180e99cb1f"
      },
      "outputs": [
        {
          "metadata": {
            "tags": null
          },
          "name": "stderr",
          "output_type": "stream",
          "text": [
            "INFO:root:VERSION 1.1.2\n"
          ]
        }
      ],
      "source": [
        "import os\n",
        "import glob\n",
        "import pandas as pd\n",
        "import numpy as np\n",
        "import logging\n",
        "import timm\n",
        "from tqdm.notebook import tqdm\n",
        "\n",
        "import torch\n",
        "import torch.nn as nn\n",
        "import torch.optim as optim\n",
        "\n",
        "from torch.utils.data import Dataset, DataLoader\n",
        "from torchvision.io import ImageReadMode, read_image\n",
        "from torchvision.transforms import Compose, Lambda, Normalize, AutoAugment, AutoAugmentPolicy\n",
        "\n",
        "import pytorch_metric_learning\n",
        "import pytorch_metric_learning.utils.logging_presets as LP\n",
        "from pytorch_metric_learning.utils import common_functions\n",
        "from pytorch_metric_learning import losses, miners, samplers, testers, trainers\n",
        "from pytorch_metric_learning.utils.accuracy_calculator import AccuracyCalculator\n",
        "from pytorch_metric_learning.utils.inference import InferenceModel\n",
        "\n",
        "for handler in logging.root.handlers[:]:\n",
        "    logging.root.removeHandler(handler)\n",
        "\n",
        "logging.getLogger().setLevel(logging.INFO)\n",
        "logging.info(\"VERSION %s\" % pytorch_metric_learning.__version__)"
      ]
    },
    {
      "cell_type": "code",
      "execution_count": 12,
      "id": "6417e36e",
      "metadata": {
        "execution": {
          "iopub.execute_input": "2022-02-19T13:40:02.191011Z",
          "iopub.status.busy": "2022-02-19T13:40:02.190388Z",
          "iopub.status.idle": "2022-02-19T13:40:02.195402Z",
          "shell.execute_reply": "2022-02-19T13:40:02.195871Z",
          "shell.execute_reply.started": "2022-02-19T13:33:49.114135Z"
        },
        "papermill": {
          "duration": 0.157707,
          "end_time": "2022-02-19T13:40:02.196077",
          "exception": false,
          "start_time": "2022-02-19T13:40:02.038370",
          "status": "completed"
        },
        "tags": [],
        "colab": {
          "base_uri": "https://localhost:8080/"
        },
        "id": "6417e36e",
        "outputId": "502da8c1-d957-4ac0-be5a-7a25f60134d1"
      },
      "outputs": [
        {
          "data": {
            "text/plain": [
              "device(type='cuda', index=0)"
            ]
          },
          "execution_count": null,
          "metadata": {},
          "output_type": "execute_result"
        }
      ],
      "source": [
        "device = torch.device(\"cuda:0\" if torch.cuda.is_available() else \"cpu\")\n",
        "device"
      ]
    },
    {
      "cell_type": "markdown",
      "id": "af97783d",
      "metadata": {
        "papermill": {
          "duration": 0.16028,
          "end_time": "2022-02-19T13:40:02.471717",
          "exception": false,
          "start_time": "2022-02-19T13:40:02.311437",
          "status": "completed"
        },
        "tags": [],
        "id": "af97783d"
      },
      "source": [
        "## Parameters"
      ]
    },
    {
      "cell_type": "markdown",
      "id": "45cb9b7a",
      "metadata": {
        "papermill": {
          "duration": 0.147265,
          "end_time": "2022-02-19T13:40:02.767244",
          "exception": false,
          "start_time": "2022-02-19T13:40:02.619979",
          "status": "completed"
        },
        "tags": [],
        "id": "45cb9b7a"
      },
      "source": [
        "There is no logic behind these, really. Go wild."
      ]
    },
    {
      "cell_type": "code",
      "execution_count": 13,
      "id": "7364ef28",
      "metadata": {
        "execution": {
          "iopub.execute_input": "2022-02-19T13:40:03.088676Z",
          "iopub.status.busy": "2022-02-19T13:40:03.087814Z",
          "iopub.status.idle": "2022-02-19T13:40:03.090030Z",
          "shell.execute_reply": "2022-02-19T13:40:03.089384Z",
          "shell.execute_reply.started": "2022-02-19T13:33:49.162915Z"
        },
        "papermill": {
          "duration": 0.165117,
          "end_time": "2022-02-19T13:40:03.090183",
          "exception": false,
          "start_time": "2022-02-19T13:40:02.925066",
          "status": "completed"
        },
        "tags": [],
        "id": "7364ef28"
      },
      "outputs": [],
      "source": [
        "MODEL_NAME='tf_efficientnet_b3_ns'\n",
        "N_CLASSES=15587\n",
        "OUTPUT_SIZE = 1536\n",
        "EMBEDDING_SIZE = 512\n",
        "N_EPOCH=15\n",
        "BATCH_SIZE=24\n",
        "MODEL_LR = 1e-3\n",
        "PCT_START=0.3\n",
        "PATIENCE=5\n",
        "N_WORKER=2\n",
        "N_NEIGHBOURS = 1000"
      ]
    },
    {
      "cell_type": "markdown",
      "id": "0242929e",
      "metadata": {
        "papermill": {
          "duration": 0.154829,
          "end_time": "2022-02-19T13:40:03.398804",
          "exception": false,
          "start_time": "2022-02-19T13:40:03.243975",
          "status": "completed"
        },
        "tags": [],
        "id": "0242929e"
      },
      "source": [
        "## Directories"
      ]
    },
    {
      "cell_type": "markdown",
      "id": "ed09e450",
      "metadata": {
        "papermill": {
          "duration": 0.093228,
          "end_time": "2022-02-19T13:40:03.600303",
          "exception": false,
          "start_time": "2022-02-19T13:40:03.507075",
          "status": "completed"
        },
        "tags": [],
        "id": "ed09e450"
      },
      "source": [
        "We have now switched to using cropped images provided by Awsaf in the following notebook: https://www.kaggle.com/awsaf49/happywhale-cropped-dataset-yolov5. Please go give him an upvote if you like this notebook."
      ]
    },
    {
      "cell_type": "code",
      "execution_count": 14,
      "id": "f002303a",
      "metadata": {
        "execution": {
          "iopub.execute_input": "2022-02-19T13:40:03.794819Z",
          "iopub.status.busy": "2022-02-19T13:40:03.793918Z",
          "iopub.status.idle": "2022-02-19T13:40:03.796237Z",
          "shell.execute_reply": "2022-02-19T13:40:03.795685Z",
          "shell.execute_reply.started": "2022-02-19T13:33:49.173253Z"
        },
        "papermill": {
          "duration": 0.102915,
          "end_time": "2022-02-19T13:40:03.796352",
          "exception": false,
          "start_time": "2022-02-19T13:40:03.693437",
          "status": "completed"
        },
        "tags": [],
        "id": "f002303a"
      },
      "outputs": [],
      "source": [
        "TRAIN_DIR = '/kaggle/input/train_images-384-384/train_images-384-384'\n",
        "TEST_DIR = '/kaggle/input/test_images-384-384/test_images-384-384'\n",
        "LOG_DIR = \"/kaggle/logs/{}\".format(MODEL_NAME)\n",
        "MODEL_DIR = \"/kaggle/models/{}\".format(MODEL_NAME)"
      ]
    },
    {
      "cell_type": "markdown",
      "id": "9d147b89",
      "metadata": {
        "papermill": {
          "duration": 0.093606,
          "end_time": "2022-02-19T13:40:03.986441",
          "exception": false,
          "start_time": "2022-02-19T13:40:03.892835",
          "status": "completed"
        },
        "tags": [],
        "id": "9d147b89"
      },
      "source": [
        "## Dataset"
      ]
    },
    {
      "cell_type": "markdown",
      "id": "a41a5f69",
      "metadata": {
        "papermill": {
          "duration": 0.135366,
          "end_time": "2022-02-19T13:40:04.260796",
          "exception": false,
          "start_time": "2022-02-19T13:40:04.125430",
          "status": "completed"
        },
        "tags": [],
        "id": "a41a5f69"
      },
      "source": [
        "Create a basic dataset for loading images. \n",
        "\n",
        "Since we're planning to use pre-trained imagenet weights we need to normalize appropriately."
      ]
    },
    {
      "cell_type": "code",
      "execution_count": 15,
      "id": "d708f23e",
      "metadata": {
        "execution": {
          "iopub.execute_input": "2022-02-19T13:40:04.457118Z",
          "iopub.status.busy": "2022-02-19T13:40:04.456514Z",
          "iopub.status.idle": "2022-02-19T13:40:04.459678Z",
          "shell.execute_reply": "2022-02-19T13:40:04.459256Z",
          "shell.execute_reply.started": "2022-02-19T13:33:49.188969Z"
        },
        "papermill": {
          "duration": 0.105007,
          "end_time": "2022-02-19T13:40:04.459817",
          "exception": false,
          "start_time": "2022-02-19T13:40:04.354810",
          "status": "completed"
        },
        "tags": [],
        "id": "d708f23e"
      },
      "outputs": [],
      "source": [
        "\n",
        "class HappyWhaleDataset(Dataset):\n",
        "    def __init__(\n",
        "        self,\n",
        "        df: pd.DataFrame,\n",
        "        image_dir: str,\n",
        "        return_labels=True,\n",
        "    ):\n",
        "        self.df = df\n",
        "        self.images = self.df[\"image\"]\n",
        "        self.image_dir = image_dir\n",
        "        self.image_transform = Compose(\n",
        "            [\n",
        "                AutoAugment(AutoAugmentPolicy.IMAGENET),\n",
        "                Lambda(lambda x: x / 255),\n",
        "                Normalize(mean=[0.485, 0.456, 0.406], std=[0.229, 0.224, 0.225]),\n",
        "                \n",
        "            ]\n",
        "        )\n",
        "        self.return_labels = return_labels\n",
        "\n",
        "    def __len__(self):\n",
        "        return len(self.images)\n",
        "\n",
        "    def __getitem__(self, idx):\n",
        "        \n",
        "        image_path = os.path.join(self.image_dir, self.images.iloc[idx])\n",
        "        image = read_image(path=image_path)\n",
        "        image = self.image_transform(image)\n",
        "        \n",
        "        if self.return_labels:\n",
        "            label = self.df['label'].iloc[idx]\n",
        "            return image, label\n",
        "        else:\n",
        "            return image\n"
      ]
    },
    {
      "cell_type": "markdown",
      "id": "e815c9ad",
      "metadata": {
        "papermill": {
          "duration": 0.09165,
          "end_time": "2022-02-19T13:40:04.643912",
          "exception": false,
          "start_time": "2022-02-19T13:40:04.552262",
          "status": "completed"
        },
        "tags": [],
        "id": "e815c9ad"
      },
      "source": [
        "# Data Split"
      ]
    },
    {
      "cell_type": "markdown",
      "id": "68b3cc1c",
      "metadata": {
        "papermill": {
          "duration": 0.092779,
          "end_time": "2022-02-19T13:40:04.829674",
          "exception": false,
          "start_time": "2022-02-19T13:40:04.736895",
          "status": "completed"
        },
        "tags": [],
        "id": "68b3cc1c"
      },
      "source": [
        "Load in the csv:"
      ]
    },
    {
      "cell_type": "code",
      "execution_count": 16,
      "id": "377c9186",
      "metadata": {
        "execution": {
          "iopub.execute_input": "2022-02-19T13:40:05.020903Z",
          "iopub.status.busy": "2022-02-19T13:40:05.020233Z",
          "iopub.status.idle": "2022-02-19T13:40:05.121065Z",
          "shell.execute_reply": "2022-02-19T13:40:05.120562Z",
          "shell.execute_reply.started": "2022-02-19T13:33:49.205045Z"
        },
        "papermill": {
          "duration": 0.198566,
          "end_time": "2022-02-19T13:40:05.121198",
          "exception": false,
          "start_time": "2022-02-19T13:40:04.922632",
          "status": "completed"
        },
        "tags": [],
        "colab": {
          "base_uri": "https://localhost:8080/",
          "height": 206
        },
        "id": "377c9186",
        "outputId": "c5810f8d-27bf-419c-c7a2-13f67596cf01"
      },
      "outputs": [
        {
          "data": {
            "text/html": [
              "\n",
              "  <div id=\"df-9754f2cf-4f7d-411a-a3bc-6127611f4272\">\n",
              "    <div class=\"colab-df-container\">\n",
              "      <div>\n",
              "<style scoped>\n",
              "    .dataframe tbody tr th:only-of-type {\n",
              "        vertical-align: middle;\n",
              "    }\n",
              "\n",
              "    .dataframe tbody tr th {\n",
              "        vertical-align: top;\n",
              "    }\n",
              "\n",
              "    .dataframe thead th {\n",
              "        text-align: right;\n",
              "    }\n",
              "</style>\n",
              "<table border=\"1\" class=\"dataframe\">\n",
              "  <thead>\n",
              "    <tr style=\"text-align: right;\">\n",
              "      <th></th>\n",
              "      <th>image</th>\n",
              "      <th>species</th>\n",
              "      <th>individual_id</th>\n",
              "    </tr>\n",
              "  </thead>\n",
              "  <tbody>\n",
              "    <tr>\n",
              "      <th>0</th>\n",
              "      <td>00021adfb725ed.jpg</td>\n",
              "      <td>melon_headed_whale</td>\n",
              "      <td>cadddb1636b9</td>\n",
              "    </tr>\n",
              "    <tr>\n",
              "      <th>1</th>\n",
              "      <td>000562241d384d.jpg</td>\n",
              "      <td>humpback_whale</td>\n",
              "      <td>1a71fbb72250</td>\n",
              "    </tr>\n",
              "    <tr>\n",
              "      <th>2</th>\n",
              "      <td>0007c33415ce37.jpg</td>\n",
              "      <td>false_killer_whale</td>\n",
              "      <td>60008f293a2b</td>\n",
              "    </tr>\n",
              "    <tr>\n",
              "      <th>3</th>\n",
              "      <td>0007d9bca26a99.jpg</td>\n",
              "      <td>bottlenose_dolphin</td>\n",
              "      <td>4b00fe572063</td>\n",
              "    </tr>\n",
              "    <tr>\n",
              "      <th>4</th>\n",
              "      <td>00087baf5cef7a.jpg</td>\n",
              "      <td>humpback_whale</td>\n",
              "      <td>8e5253662392</td>\n",
              "    </tr>\n",
              "  </tbody>\n",
              "</table>\n",
              "</div>\n",
              "      <button class=\"colab-df-convert\" onclick=\"convertToInteractive('df-9754f2cf-4f7d-411a-a3bc-6127611f4272')\"\n",
              "              title=\"Convert this dataframe to an interactive table.\"\n",
              "              style=\"display:none;\">\n",
              "        \n",
              "  <svg xmlns=\"http://www.w3.org/2000/svg\" height=\"24px\"viewBox=\"0 0 24 24\"\n",
              "       width=\"24px\">\n",
              "    <path d=\"M0 0h24v24H0V0z\" fill=\"none\"/>\n",
              "    <path d=\"M18.56 5.44l.94 2.06.94-2.06 2.06-.94-2.06-.94-.94-2.06-.94 2.06-2.06.94zm-11 1L8.5 8.5l.94-2.06 2.06-.94-2.06-.94L8.5 2.5l-.94 2.06-2.06.94zm10 10l.94 2.06.94-2.06 2.06-.94-2.06-.94-.94-2.06-.94 2.06-2.06.94z\"/><path d=\"M17.41 7.96l-1.37-1.37c-.4-.4-.92-.59-1.43-.59-.52 0-1.04.2-1.43.59L10.3 9.45l-7.72 7.72c-.78.78-.78 2.05 0 2.83L4 21.41c.39.39.9.59 1.41.59.51 0 1.02-.2 1.41-.59l7.78-7.78 2.81-2.81c.8-.78.8-2.07 0-2.86zM5.41 20L4 18.59l7.72-7.72 1.47 1.35L5.41 20z\"/>\n",
              "  </svg>\n",
              "      </button>\n",
              "      \n",
              "  <style>\n",
              "    .colab-df-container {\n",
              "      display:flex;\n",
              "      flex-wrap:wrap;\n",
              "      gap: 12px;\n",
              "    }\n",
              "\n",
              "    .colab-df-convert {\n",
              "      background-color: #E8F0FE;\n",
              "      border: none;\n",
              "      border-radius: 50%;\n",
              "      cursor: pointer;\n",
              "      display: none;\n",
              "      fill: #1967D2;\n",
              "      height: 32px;\n",
              "      padding: 0 0 0 0;\n",
              "      width: 32px;\n",
              "    }\n",
              "\n",
              "    .colab-df-convert:hover {\n",
              "      background-color: #E2EBFA;\n",
              "      box-shadow: 0px 1px 2px rgba(60, 64, 67, 0.3), 0px 1px 3px 1px rgba(60, 64, 67, 0.15);\n",
              "      fill: #174EA6;\n",
              "    }\n",
              "\n",
              "    [theme=dark] .colab-df-convert {\n",
              "      background-color: #3B4455;\n",
              "      fill: #D2E3FC;\n",
              "    }\n",
              "\n",
              "    [theme=dark] .colab-df-convert:hover {\n",
              "      background-color: #434B5C;\n",
              "      box-shadow: 0px 1px 3px 1px rgba(0, 0, 0, 0.15);\n",
              "      filter: drop-shadow(0px 1px 2px rgba(0, 0, 0, 0.3));\n",
              "      fill: #FFFFFF;\n",
              "    }\n",
              "  </style>\n",
              "\n",
              "      <script>\n",
              "        const buttonEl =\n",
              "          document.querySelector('#df-9754f2cf-4f7d-411a-a3bc-6127611f4272 button.colab-df-convert');\n",
              "        buttonEl.style.display =\n",
              "          google.colab.kernel.accessAllowed ? 'block' : 'none';\n",
              "\n",
              "        async function convertToInteractive(key) {\n",
              "          const element = document.querySelector('#df-9754f2cf-4f7d-411a-a3bc-6127611f4272');\n",
              "          const dataTable =\n",
              "            await google.colab.kernel.invokeFunction('convertToInteractive',\n",
              "                                                     [key], {});\n",
              "          if (!dataTable) return;\n",
              "\n",
              "          const docLinkHtml = 'Like what you see? Visit the ' +\n",
              "            '<a target=\"_blank\" href=https://colab.research.google.com/notebooks/data_table.ipynb>data table notebook</a>'\n",
              "            + ' to learn more about interactive tables.';\n",
              "          element.innerHTML = '';\n",
              "          dataTable['output_type'] = 'display_data';\n",
              "          await google.colab.output.renderOutput(dataTable, element);\n",
              "          const docLink = document.createElement('div');\n",
              "          docLink.innerHTML = docLinkHtml;\n",
              "          element.appendChild(docLink);\n",
              "        }\n",
              "      </script>\n",
              "    </div>\n",
              "  </div>\n",
              "  "
            ],
            "text/plain": [
              "                image             species individual_id\n",
              "0  00021adfb725ed.jpg  melon_headed_whale  cadddb1636b9\n",
              "1  000562241d384d.jpg      humpback_whale  1a71fbb72250\n",
              "2  0007c33415ce37.jpg  false_killer_whale  60008f293a2b\n",
              "3  0007d9bca26a99.jpg  bottlenose_dolphin  4b00fe572063\n",
              "4  00087baf5cef7a.jpg      humpback_whale  8e5253662392"
            ]
          },
          "execution_count": null,
          "metadata": {},
          "output_type": "execute_result"
        }
      ],
      "source": [
        "!cp /content/gdrive/MyDrive/kaggle/Whale/input/train.csv /kaggle/input/\n",
        "!cp /content/gdrive/MyDrive/kaggle/Whale/input/sample_submission.csv /kaggle/input/\n",
        "\n",
        "df = pd.read_csv('/kaggle/input/train.csv')\n",
        "df.head()"
      ]
    },
    {
      "cell_type": "markdown",
      "id": "a3e44aa5",
      "metadata": {
        "papermill": {
          "duration": 0.093075,
          "end_time": "2022-02-19T13:40:05.307363",
          "exception": false,
          "start_time": "2022-02-19T13:40:05.214288",
          "status": "completed"
        },
        "tags": [],
        "id": "a3e44aa5"
      },
      "source": [
        "Add a label for the classes:"
      ]
    },
    {
      "cell_type": "code",
      "execution_count": 17,
      "id": "d8ee4c8f",
      "metadata": {
        "execution": {
          "iopub.execute_input": "2022-02-19T13:40:05.509360Z",
          "iopub.status.busy": "2022-02-19T13:40:05.508566Z",
          "iopub.status.idle": "2022-02-19T13:40:05.545428Z",
          "shell.execute_reply": "2022-02-19T13:40:05.545862Z",
          "shell.execute_reply.started": "2022-02-19T13:33:49.287570Z"
        },
        "papermill": {
          "duration": 0.144864,
          "end_time": "2022-02-19T13:40:05.546021",
          "exception": false,
          "start_time": "2022-02-19T13:40:05.401157",
          "status": "completed"
        },
        "tags": [],
        "colab": {
          "base_uri": "https://localhost:8080/"
        },
        "id": "d8ee4c8f",
        "outputId": "e28eff53-0ee0-4f28-b4ad-c1e7429dd4ca"
      },
      "outputs": [
        {
          "data": {
            "text/plain": [
              "count    51033.000000\n",
              "mean      7651.356240\n",
              "std       4465.552697\n",
              "min          0.000000\n",
              "25%       3748.000000\n",
              "50%       7605.000000\n",
              "75%      11443.000000\n",
              "max      15586.000000\n",
              "Name: label, dtype: float64"
            ]
          },
          "execution_count": null,
          "metadata": {},
          "output_type": "execute_result"
        }
      ],
      "source": [
        "df['label'] = df.groupby('individual_id').ngroup()\n",
        "df['label'].describe()"
      ]
    },
    {
      "cell_type": "markdown",
      "id": "16e354ca",
      "metadata": {
        "papermill": {
          "duration": 0.093471,
          "end_time": "2022-02-19T13:40:05.732680",
          "exception": false,
          "start_time": "2022-02-19T13:40:05.639209",
          "status": "completed"
        },
        "tags": [],
        "id": "16e354ca"
      },
      "source": [
        "Split into training and validation:"
      ]
    },
    {
      "cell_type": "code",
      "execution_count": 18,
      "id": "e1b40883",
      "metadata": {
        "execution": {
          "iopub.execute_input": "2022-02-19T13:40:05.926192Z",
          "iopub.status.busy": "2022-02-19T13:40:05.924539Z",
          "iopub.status.idle": "2022-02-19T13:40:05.944791Z",
          "shell.execute_reply": "2022-02-19T13:40:05.945243Z",
          "shell.execute_reply.started": "2022-02-19T13:33:49.335780Z"
        },
        "papermill": {
          "duration": 0.118717,
          "end_time": "2022-02-19T13:40:05.945425",
          "exception": false,
          "start_time": "2022-02-19T13:40:05.826708",
          "status": "completed"
        },
        "tags": [],
        "colab": {
          "base_uri": "https://localhost:8080/"
        },
        "id": "e1b40883",
        "outputId": "634cffb8-d709-4589-bc81-d16ffa1e4284"
      },
      "outputs": [
        {
          "metadata": {
            "tags": null
          },
          "name": "stdout",
          "output_type": "stream",
          "text": [
            "(45930, 4)\n",
            "(5103, 4)\n"
          ]
        }
      ],
      "source": [
        "valid_proportion = 0.1\n",
        "\n",
        "valid_df = df.sample(frac=valid_proportion, replace=False, random_state=1).copy()\n",
        "train_df = df[~df['image'].isin(valid_df['image'])].copy()\n",
        "\n",
        "print(train_df.shape)\n",
        "print(valid_df.shape)"
      ]
    },
    {
      "cell_type": "markdown",
      "id": "8c904f57",
      "metadata": {
        "papermill": {
          "duration": 0.09354,
          "end_time": "2022-02-19T13:40:06.133138",
          "exception": false,
          "start_time": "2022-02-19T13:40:06.039598",
          "status": "completed"
        },
        "tags": [],
        "id": "8c904f57"
      },
      "source": [
        "Reset index on both since we want to use it for KNN lookups later:"
      ]
    },
    {
      "cell_type": "code",
      "execution_count": 19,
      "id": "c3ba38c4",
      "metadata": {
        "execution": {
          "iopub.execute_input": "2022-02-19T13:40:06.325888Z",
          "iopub.status.busy": "2022-02-19T13:40:06.325115Z",
          "iopub.status.idle": "2022-02-19T13:40:06.327187Z",
          "shell.execute_reply": "2022-02-19T13:40:06.327556Z",
          "shell.execute_reply.started": "2022-02-19T13:33:49.363670Z"
        },
        "papermill": {
          "duration": 0.100927,
          "end_time": "2022-02-19T13:40:06.327723",
          "exception": false,
          "start_time": "2022-02-19T13:40:06.226796",
          "status": "completed"
        },
        "tags": [],
        "id": "c3ba38c4"
      },
      "outputs": [],
      "source": [
        "train_df.reset_index(drop=True, inplace=True)\n",
        "valid_df.reset_index(drop=True, inplace=True)"
      ]
    },
    {
      "cell_type": "markdown",
      "id": "23fbcbcd",
      "metadata": {
        "papermill": {
          "duration": 0.093063,
          "end_time": "2022-02-19T13:40:06.515274",
          "exception": false,
          "start_time": "2022-02-19T13:40:06.422211",
          "status": "completed"
        },
        "tags": [],
        "id": "23fbcbcd"
      },
      "source": [
        "Create our dataset objects:"
      ]
    },
    {
      "cell_type": "code",
      "execution_count": 20,
      "id": "dea62d5f",
      "metadata": {
        "execution": {
          "iopub.execute_input": "2022-02-19T13:40:06.708974Z",
          "iopub.status.busy": "2022-02-19T13:40:06.708349Z",
          "iopub.status.idle": "2022-02-19T13:40:06.725802Z",
          "shell.execute_reply": "2022-02-19T13:40:06.726244Z",
          "shell.execute_reply.started": "2022-02-19T13:33:49.371926Z"
        },
        "papermill": {
          "duration": 0.117944,
          "end_time": "2022-02-19T13:40:06.726392",
          "exception": false,
          "start_time": "2022-02-19T13:40:06.608448",
          "status": "completed"
        },
        "tags": [],
        "colab": {
          "base_uri": "https://localhost:8080/"
        },
        "id": "dea62d5f",
        "outputId": "526127ff-9893-4d70-a42c-7928b87727b1"
      },
      "outputs": [
        {
          "data": {
            "text/plain": [
              "45930"
            ]
          },
          "execution_count": null,
          "metadata": {},
          "output_type": "execute_result"
        }
      ],
      "source": [
        "train_dataset = HappyWhaleDataset(df=train_df, image_dir=TRAIN_DIR, return_labels=True)\n",
        "len(train_dataset)"
      ]
    },
    {
      "cell_type": "code",
      "execution_count": 21,
      "id": "03d9dc7a",
      "metadata": {
        "execution": {
          "iopub.execute_input": "2022-02-19T13:40:06.921133Z",
          "iopub.status.busy": "2022-02-19T13:40:06.920292Z",
          "iopub.status.idle": "2022-02-19T13:40:06.924944Z",
          "shell.execute_reply": "2022-02-19T13:40:06.924507Z",
          "shell.execute_reply.started": "2022-02-19T13:33:49.388033Z"
        },
        "papermill": {
          "duration": 0.10401,
          "end_time": "2022-02-19T13:40:06.925077",
          "exception": false,
          "start_time": "2022-02-19T13:40:06.821067",
          "status": "completed"
        },
        "tags": [],
        "colab": {
          "base_uri": "https://localhost:8080/"
        },
        "id": "03d9dc7a",
        "outputId": "09a56525-06be-46a0-9cbe-b407054b2e0b"
      },
      "outputs": [
        {
          "data": {
            "text/plain": [
              "5103"
            ]
          },
          "execution_count": null,
          "metadata": {},
          "output_type": "execute_result"
        }
      ],
      "source": [
        "valid_dataset = HappyWhaleDataset(df=valid_df, image_dir=TRAIN_DIR, return_labels=True)\n",
        "len(valid_dataset)"
      ]
    },
    {
      "cell_type": "code",
      "execution_count": 22,
      "id": "a7e80525",
      "metadata": {
        "execution": {
          "iopub.execute_input": "2022-02-19T13:40:07.119002Z",
          "iopub.status.busy": "2022-02-19T13:40:07.118148Z",
          "iopub.status.idle": "2022-02-19T13:40:07.120706Z",
          "shell.execute_reply": "2022-02-19T13:40:07.120277Z",
          "shell.execute_reply.started": "2022-02-19T13:33:49.402793Z"
        },
        "papermill": {
          "duration": 0.101781,
          "end_time": "2022-02-19T13:40:07.120845",
          "exception": false,
          "start_time": "2022-02-19T13:40:07.019064",
          "status": "completed"
        },
        "tags": [],
        "id": "a7e80525"
      },
      "outputs": [],
      "source": [
        "dataset_dict = {\"train\": train_dataset, \"val\": valid_dataset}"
      ]
    },
    {
      "cell_type": "markdown",
      "id": "694f2663",
      "metadata": {
        "papermill": {
          "duration": 0.094801,
          "end_time": "2022-02-19T13:40:07.309847",
          "exception": false,
          "start_time": "2022-02-19T13:40:07.215046",
          "status": "completed"
        },
        "tags": [],
        "id": "694f2663"
      },
      "source": [
        "## Model Setup"
      ]
    },
    {
      "cell_type": "markdown",
      "id": "352abd88",
      "metadata": {
        "papermill": {
          "duration": 0.094998,
          "end_time": "2022-02-19T13:40:07.499288",
          "exception": false,
          "start_time": "2022-02-19T13:40:07.404290",
          "status": "completed"
        },
        "tags": [],
        "id": "352abd88"
      },
      "source": [
        "We need to specify three components to build our model:\n",
        "\n",
        "- Trunk\n",
        "- Embedder\n",
        "- Loss\n",
        "\n",
        "Setup the trunk using a pre-trained model from timm:"
      ]
    },
    {
      "cell_type": "code",
      "execution_count": 23,
      "id": "200c53a1",
      "metadata": {
        "execution": {
          "iopub.execute_input": "2022-02-19T13:40:07.700409Z",
          "iopub.status.busy": "2022-02-19T13:40:07.699763Z",
          "iopub.status.idle": "2022-02-19T13:40:14.171992Z",
          "shell.execute_reply": "2022-02-19T13:40:14.171481Z",
          "shell.execute_reply.started": "2022-02-19T13:33:49.412079Z"
        },
        "papermill": {
          "duration": 6.579451,
          "end_time": "2022-02-19T13:40:14.172133",
          "exception": false,
          "start_time": "2022-02-19T13:40:07.592682",
          "status": "completed"
        },
        "tags": [],
        "colab": {
          "base_uri": "https://localhost:8080/"
        },
        "id": "200c53a1",
        "outputId": "5eb5fc9c-ed49-4d52-fb2f-fd8c30d6f95d"
      },
      "outputs": [
        {
          "metadata": {
            "tags": null
          },
          "name": "stderr",
          "output_type": "stream",
          "text": [
            "INFO:timm.models.helpers:Loading pretrained weights from url (https://github.com/rwightman/pytorch-image-models/releases/download/v0.1-weights/tf_efficientnet_b3_ns-9d44bf68.pth)\n",
            "Downloading: \"https://github.com/rwightman/pytorch-image-models/releases/download/v0.1-weights/tf_efficientnet_b3_ns-9d44bf68.pth\" to /root/.cache/torch/hub/checkpoints/tf_efficientnet_b3_ns-9d44bf68.pth\n"
          ]
        }
      ],
      "source": [
        "trunk = timm.create_model(MODEL_NAME, pretrained=True)\n",
        "trunk.classifier = common_functions.Identity()\n",
        "trunk = trunk.to(device)\n",
        "trunk_optimizer = optim.SGD(trunk.parameters(), lr=MODEL_LR, momentum=0.9)\n",
        "trunk_schedule = optim.lr_scheduler.OneCycleLR(\n",
        "    trunk_optimizer,\n",
        "    max_lr=MODEL_LR,\n",
        "    total_steps = N_EPOCH * int(len(train_dataset)/BATCH_SIZE),\n",
        "    pct_start = PCT_START\n",
        ")"
      ]
    },
    {
      "cell_type": "markdown",
      "id": "2a2d669f",
      "metadata": {
        "papermill": {
          "duration": 0.095618,
          "end_time": "2022-02-19T13:40:14.363276",
          "exception": false,
          "start_time": "2022-02-19T13:40:14.267658",
          "status": "completed"
        },
        "tags": [],
        "id": "2a2d669f"
      },
      "source": [
        "Add our embedder. This is just a linear layer that will create the embeddings for KNN:"
      ]
    },
    {
      "cell_type": "code",
      "execution_count": null,
      "id": "48fd919c",
      "metadata": {
        "execution": {
          "iopub.execute_input": "2022-02-19T13:40:14.560659Z",
          "iopub.status.busy": "2022-02-19T13:40:14.559917Z",
          "iopub.status.idle": "2022-02-19T13:40:14.571685Z",
          "shell.execute_reply": "2022-02-19T13:40:14.571270Z",
          "shell.execute_reply.started": "2022-02-19T13:33:52.121957Z"
        },
        "papermill": {
          "duration": 0.112224,
          "end_time": "2022-02-19T13:40:14.571837",
          "exception": false,
          "start_time": "2022-02-19T13:40:14.459613",
          "status": "completed"
        },
        "tags": [],
        "id": "48fd919c"
      },
      "outputs": [],
      "source": [
        "embedder = nn.Linear(OUTPUT_SIZE, EMBEDDING_SIZE).to(device)\n",
        "embedder_optimizer = optim.SGD(trunk.parameters(), lr=MODEL_LR, momentum=0.9)\n",
        "embedder_schedule = optim.lr_scheduler.OneCycleLR(\n",
        "    embedder_optimizer,\n",
        "    max_lr=MODEL_LR,\n",
        "    total_steps = N_EPOCH * int(len(train_dataset)/BATCH_SIZE),\n",
        "    pct_start = PCT_START\n",
        ")"
      ]
    },
    {
      "cell_type": "markdown",
      "id": "73512843",
      "metadata": {
        "papermill": {
          "duration": 0.095133,
          "end_time": "2022-02-19T13:40:14.761996",
          "exception": false,
          "start_time": "2022-02-19T13:40:14.666863",
          "status": "completed"
        },
        "tags": [],
        "id": "73512843"
      },
      "source": [
        "And add the loss function:"
      ]
    },
    {
      "cell_type": "code",
      "execution_count": null,
      "id": "a31033ad",
      "metadata": {
        "execution": {
          "iopub.execute_input": "2022-02-19T13:40:14.959880Z",
          "iopub.status.busy": "2022-02-19T13:40:14.959111Z",
          "iopub.status.idle": "2022-02-19T13:40:15.043155Z",
          "shell.execute_reply": "2022-02-19T13:40:15.042620Z",
          "shell.execute_reply.started": "2022-02-19T13:33:52.152359Z"
        },
        "papermill": {
          "duration": 0.185644,
          "end_time": "2022-02-19T13:40:15.043282",
          "exception": false,
          "start_time": "2022-02-19T13:40:14.857638",
          "status": "completed"
        },
        "tags": [],
        "id": "a31033ad"
      },
      "outputs": [],
      "source": [
        "loss_func = losses.ArcFaceLoss(num_classes=N_CLASSES, embedding_size=EMBEDDING_SIZE).to(device)\n",
        "loss_optimizer = optim.SGD(trunk.parameters(), lr=MODEL_LR, momentum=0.9)\n",
        "loss_schedule = optim.lr_scheduler.OneCycleLR(\n",
        "    loss_optimizer,\n",
        "    max_lr=MODEL_LR,\n",
        "    total_steps = N_EPOCH * int(len(train_dataset)/BATCH_SIZE),\n",
        "    pct_start = PCT_START\n",
        ")"
      ]
    },
    {
      "cell_type": "markdown",
      "id": "650de6cf",
      "metadata": {
        "papermill": {
          "duration": 0.094949,
          "end_time": "2022-02-19T13:40:15.243084",
          "exception": false,
          "start_time": "2022-02-19T13:40:15.148135",
          "status": "completed"
        },
        "tags": [],
        "id": "650de6cf"
      },
      "source": [
        "Setup some hooks for validation, logging and model saving at the end of the epoch:"
      ]
    },
    {
      "cell_type": "code",
      "execution_count": null,
      "id": "f0b39737",
      "metadata": {
        "execution": {
          "iopub.execute_input": "2022-02-19T13:40:15.440945Z",
          "iopub.status.busy": "2022-02-19T13:40:15.440067Z",
          "iopub.status.idle": "2022-02-19T13:40:15.651767Z",
          "shell.execute_reply": "2022-02-19T13:40:15.651275Z",
          "shell.execute_reply.started": "2022-02-19T13:33:52.310508Z"
        },
        "papermill": {
          "duration": 0.313513,
          "end_time": "2022-02-19T13:40:15.651911",
          "exception": false,
          "start_time": "2022-02-19T13:40:15.338398",
          "status": "completed"
        },
        "tags": [],
        "id": "f0b39737"
      },
      "outputs": [],
      "source": [
        "record_keeper, _, _ = LP.get_record_keeper(LOG_DIR)\n",
        "hooks = LP.get_hook_container(record_keeper, primary_metric='mean_average_precision')"
      ]
    },
    {
      "cell_type": "code",
      "execution_count": null,
      "id": "be4ab729",
      "metadata": {
        "execution": {
          "iopub.execute_input": "2022-02-19T13:40:15.848316Z",
          "iopub.status.busy": "2022-02-19T13:40:15.847452Z",
          "iopub.status.idle": "2022-02-19T13:40:15.850165Z",
          "shell.execute_reply": "2022-02-19T13:40:15.849692Z",
          "shell.execute_reply.started": "2022-02-19T13:33:52.469422Z"
        },
        "papermill": {
          "duration": 0.103083,
          "end_time": "2022-02-19T13:40:15.850280",
          "exception": false,
          "start_time": "2022-02-19T13:40:15.747197",
          "status": "completed"
        },
        "tags": [],
        "id": "be4ab729"
      },
      "outputs": [],
      "source": [
        "tester = testers.GlobalEmbeddingSpaceTester(\n",
        "    end_of_testing_hook=hooks.end_of_testing_hook,\n",
        "    accuracy_calculator=AccuracyCalculator(\n",
        "        include=['mean_average_precision'],\n",
        "        device=torch.device(\"cpu\"),\n",
        "        k=5),\n",
        "    dataloader_num_workers=N_WORKER,\n",
        "    batch_size=BATCH_SIZE\n",
        ")"
      ]
    },
    {
      "cell_type": "markdown",
      "id": "ec5ecd27",
      "metadata": {
        "papermill": {
          "duration": 0.095779,
          "end_time": "2022-02-19T13:40:16.040869",
          "exception": false,
          "start_time": "2022-02-19T13:40:15.945090",
          "status": "completed"
        },
        "tags": [],
        "id": "ec5ecd27"
      },
      "source": [
        "By adding the tester as an end of epoch hook in this way, it will automatically use the embedder model to generate train and validation embeddings, then for each validation embedding find the k nearest neighbours and evaluate MAP@5. This won't take into account the `new_individual` problem, but it should give us an idea of model performance on the task regardless."
      ]
    },
    {
      "cell_type": "code",
      "execution_count": 28,
      "id": "f78af965",
      "metadata": {
        "execution": {
          "iopub.execute_input": "2022-02-19T13:40:16.237340Z",
          "iopub.status.busy": "2022-02-19T13:40:16.236622Z",
          "iopub.status.idle": "2022-02-19T13:40:16.239952Z",
          "shell.execute_reply": "2022-02-19T13:40:16.239507Z",
          "shell.execute_reply.started": "2022-02-19T13:33:52.482913Z"
        },
        "papermill": {
          "duration": 0.103973,
          "end_time": "2022-02-19T13:40:16.240083",
          "exception": false,
          "start_time": "2022-02-19T13:40:16.136110",
          "status": "completed"
        },
        "tags": [],
        "id": "f78af965"
      },
      "outputs": [],
      "source": [
        "end_of_epoch_hook = hooks.end_of_epoch_hook(\n",
        "    tester, \n",
        "    dataset_dict,\n",
        "    MODEL_DIR,\n",
        "    test_interval=1, \n",
        "    patience=PATIENCE, \n",
        "    splits_to_eval = [('val', ['train'])]\n",
        ")"
      ]
    },
    {
      "cell_type": "markdown",
      "id": "a9fdb556",
      "metadata": {
        "papermill": {
          "duration": 0.097807,
          "end_time": "2022-02-19T13:40:16.433398",
          "exception": false,
          "start_time": "2022-02-19T13:40:16.335591",
          "status": "completed"
        },
        "tags": [],
        "id": "a9fdb556"
      },
      "source": [
        "Finally, setup our trainer object:"
      ]
    },
    {
      "cell_type": "code",
      "execution_count": 29,
      "id": "775d1b73",
      "metadata": {
        "execution": {
          "iopub.execute_input": "2022-02-19T13:40:16.631794Z",
          "iopub.status.busy": "2022-02-19T13:40:16.630911Z",
          "iopub.status.idle": "2022-02-19T13:40:16.632698Z",
          "shell.execute_reply": "2022-02-19T13:40:16.633121Z",
          "shell.execute_reply.started": "2022-02-19T13:33:52.493112Z"
        },
        "papermill": {
          "duration": 0.104445,
          "end_time": "2022-02-19T13:40:16.633259",
          "exception": false,
          "start_time": "2022-02-19T13:40:16.528814",
          "status": "completed"
        },
        "tags": [],
        "id": "775d1b73"
      },
      "outputs": [],
      "source": [
        "trainer = trainers.MetricLossOnly(\n",
        "    models={\"trunk\": trunk, \"embedder\": embedder},\n",
        "    optimizers={\"trunk_optimizer\": trunk_optimizer, \"embedder_optimizer\": embedder_optimizer, \"metric_loss_optimizer\": loss_optimizer},\n",
        "    batch_size=BATCH_SIZE,\n",
        "    loss_funcs={\"metric_loss\": loss_func},\n",
        "    mining_funcs={},\n",
        "    dataset=train_dataset,\n",
        "    dataloader_num_workers=N_WORKER,\n",
        "    end_of_epoch_hook=end_of_epoch_hook,\n",
        "    lr_schedulers={\n",
        "        'trunk_scheduler_by_iteration': trunk_schedule,\n",
        "        'embedder_scheduler_by_iteration': embedder_schedule,\n",
        "        'metric_loss_scheduler_by_iteration': loss_schedule,\n",
        "    }\n",
        ")"
      ]
    },
    {
      "cell_type": "markdown",
      "id": "da3a7de1",
      "metadata": {
        "papermill": {
          "duration": 0.095435,
          "end_time": "2022-02-19T13:40:16.824260",
          "exception": false,
          "start_time": "2022-02-19T13:40:16.728825",
          "status": "completed"
        },
        "tags": [],
        "id": "da3a7de1"
      },
      "source": [
        "## Model Training"
      ]
    },
    {
      "cell_type": "markdown",
      "id": "3b08b668",
      "metadata": {
        "papermill": {
          "duration": 0.094993,
          "end_time": "2022-02-19T13:40:17.015001",
          "exception": false,
          "start_time": "2022-02-19T13:40:16.920008",
          "status": "completed"
        },
        "tags": [],
        "id": "3b08b668"
      },
      "source": [
        "Train the model:"
      ]
    },
    {
      "cell_type": "code",
      "execution_count": null,
      "id": "bde846bc",
      "metadata": {
        "execution": {
          "iopub.execute_input": "2022-02-19T13:40:17.210301Z",
          "iopub.status.busy": "2022-02-19T13:40:17.209431Z",
          "iopub.status.idle": "2022-02-19T20:20:56.015531Z",
          "shell.execute_reply": "2022-02-19T20:20:56.014989Z"
        },
        "papermill": {
          "duration": 24038.905663,
          "end_time": "2022-02-19T20:20:56.015660",
          "exception": false,
          "start_time": "2022-02-19T13:40:17.109997",
          "status": "completed"
        },
        "tags": [],
        "colab": {
          "base_uri": "https://localhost:8080/"
        },
        "id": "bde846bc",
        "outputId": "7f5eb3d2-86dd-4127-f2d3-560b0a800aba"
      },
      "outputs": [
        {
          "output_type": "stream",
          "name": "stderr",
          "text": [
            "INFO:PML:Initializing dataloader\n",
            "INFO:PML:Initializing dataloader iterator\n",
            "INFO:PML:Done creating dataloader iterator\n",
            "INFO:PML:TRAINING EPOCH 1\n",
            "total_loss=41.79399: 100%|██████████| 1913/1913 [10:42<00:00,  2.98it/s]\n",
            "INFO:PML:Evaluating epoch 1\n",
            "INFO:PML:Getting embeddings for the val split\n",
            "100%|██████████| 213/213 [00:49<00:00,  4.29it/s]\n",
            "INFO:PML:Getting embeddings for the train split\n",
            "100%|██████████| 1914/1914 [07:19<00:00,  4.36it/s]\n",
            "INFO:PML:Computing accuracy for the val split w.r.t ['train']\n",
            "INFO:PML:running k-nn with k=5\n",
            "INFO:PML:embedding dimensionality is 512\n",
            "INFO:PML:New best accuracy! 0.06143222006577173\n",
            "INFO:PML:TRAINING EPOCH 2\n",
            "total_loss=40.85210: 100%|██████████| 1913/1913 [19:06<00:00,  1.67it/s]\n",
            "INFO:PML:Evaluating epoch 2\n",
            "INFO:PML:Getting embeddings for the val split\n",
            "100%|██████████| 213/213 [01:27<00:00,  2.43it/s]\n",
            "INFO:PML:Getting embeddings for the train split\n",
            "100%|██████████| 1914/1914 [10:41<00:00,  2.99it/s]\n",
            "INFO:PML:Computing accuracy for the val split w.r.t ['train']\n",
            "INFO:PML:running k-nn with k=5\n",
            "INFO:PML:embedding dimensionality is 512\n",
            "INFO:PML:New best accuracy! 0.07360908943878375\n",
            "INFO:PML:TRAINING EPOCH 3\n",
            "total_loss=41.63689: 100%|██████████| 1913/1913 [20:10<00:00,  1.58it/s]\n",
            "INFO:PML:Evaluating epoch 3\n",
            "INFO:PML:Getting embeddings for the val split\n",
            "100%|██████████| 213/213 [01:59<00:00,  1.79it/s]\n",
            "INFO:PML:Getting embeddings for the train split\n",
            "  8%|▊         | 151/1914 [01:23<19:00,  1.55it/s]"
          ]
        }
      ],
      "source": [
        "trainer.train(num_epochs=36)"
      ]
    },
    {
      "cell_type": "markdown",
      "id": "26d0cf43",
      "metadata": {
        "papermill": {
          "duration": 28.929825,
          "end_time": "2022-02-19T20:21:54.930695",
          "exception": false,
          "start_time": "2022-02-19T20:21:26.000870",
          "status": "completed"
        },
        "tags": [],
        "id": "26d0cf43"
      },
      "source": [
        "## Inference (validation set)"
      ]
    },
    {
      "cell_type": "markdown",
      "id": "d336e549",
      "metadata": {
        "papermill": {
          "duration": 28.878561,
          "end_time": "2022-02-19T20:22:52.311081",
          "exception": false,
          "start_time": "2022-02-19T20:22:23.432520",
          "status": "completed"
        },
        "tags": [],
        "id": "d336e549"
      },
      "source": [
        "Here we want to use the validation set to help us choose the appropriate distance threshold between our query and reference images after which we classify the former as a `new_individual`. To do so, we loop through the validation set for a number of thresholds and find that which maximises our MAP@5."
      ]
    },
    {
      "cell_type": "markdown",
      "id": "c83f55c1",
      "metadata": {
        "papermill": {
          "duration": 28.623222,
          "end_time": "2022-02-19T20:23:49.938924",
          "exception": false,
          "start_time": "2022-02-19T20:23:21.315702",
          "status": "completed"
        },
        "tags": [],
        "id": "c83f55c1"
      },
      "source": [
        "Load in the best weights:"
      ]
    },
    {
      "cell_type": "code",
      "execution_count": null,
      "id": "78d5b0d7",
      "metadata": {
        "execution": {
          "iopub.execute_input": "2022-02-19T20:24:47.932535Z",
          "iopub.status.busy": "2022-02-19T20:24:47.931622Z",
          "iopub.status.idle": "2022-02-19T20:24:47.933873Z",
          "shell.execute_reply": "2022-02-19T20:24:47.934320Z"
        },
        "papermill": {
          "duration": 29.071597,
          "end_time": "2022-02-19T20:24:47.934495",
          "exception": false,
          "start_time": "2022-02-19T20:24:18.862898",
          "status": "completed"
        },
        "tags": [],
        "id": "78d5b0d7"
      },
      "outputs": [],
      "source": [
        "logging.getLogger().setLevel(logging.WARNING)"
      ]
    },
    {
      "cell_type": "code",
      "execution_count": null,
      "id": "088c5fa5",
      "metadata": {
        "execution": {
          "iopub.execute_input": "2022-02-19T20:25:44.913586Z",
          "iopub.status.busy": "2022-02-19T20:25:44.911999Z",
          "iopub.status.idle": "2022-02-19T20:25:45.123042Z",
          "shell.execute_reply": "2022-02-19T20:25:45.122602Z"
        },
        "papermill": {
          "duration": 28.771054,
          "end_time": "2022-02-19T20:25:45.123166",
          "exception": false,
          "start_time": "2022-02-19T20:25:16.352112",
          "status": "completed"
        },
        "tags": [],
        "id": "088c5fa5"
      },
      "outputs": [],
      "source": [
        "best_trunk_weights = glob.glob('../models/{}/trunk_best*.pth'.format(MODEL_NAME))[0]\n",
        "trunk.load_state_dict(torch.load(best_trunk_weights))"
      ]
    },
    {
      "cell_type": "code",
      "execution_count": null,
      "id": "38da36d6",
      "metadata": {
        "execution": {
          "iopub.execute_input": "2022-02-19T20:26:42.451318Z",
          "iopub.status.busy": "2022-02-19T20:26:42.450187Z",
          "iopub.status.idle": "2022-02-19T20:26:42.460084Z",
          "shell.execute_reply": "2022-02-19T20:26:42.460597Z"
        },
        "papermill": {
          "duration": 29.042197,
          "end_time": "2022-02-19T20:26:42.460784",
          "exception": false,
          "start_time": "2022-02-19T20:26:13.418587",
          "status": "completed"
        },
        "tags": [],
        "id": "38da36d6"
      },
      "outputs": [],
      "source": [
        "best_embedder_weights = glob.glob('../models/{}/embedder_best*.pth'.format(MODEL_NAME))[0]\n",
        "embedder.load_state_dict(torch.load(best_embedder_weights))"
      ]
    },
    {
      "cell_type": "markdown",
      "id": "6a845d74",
      "metadata": {
        "papermill": {
          "duration": 28.640757,
          "end_time": "2022-02-19T20:27:39.976763",
          "exception": false,
          "start_time": "2022-02-19T20:27:11.336006",
          "status": "completed"
        },
        "tags": [],
        "id": "6a845d74"
      },
      "source": [
        "Setup the inference model object to easily generate embeddings and find nearest neighbours:"
      ]
    },
    {
      "cell_type": "code",
      "execution_count": null,
      "id": "e492ed16",
      "metadata": {
        "execution": {
          "iopub.execute_input": "2022-02-19T20:28:37.181545Z",
          "iopub.status.busy": "2022-02-19T20:28:37.180655Z",
          "iopub.status.idle": "2022-02-19T20:28:37.183065Z",
          "shell.execute_reply": "2022-02-19T20:28:37.182641Z"
        },
        "papermill": {
          "duration": 28.516304,
          "end_time": "2022-02-19T20:28:37.183183",
          "exception": false,
          "start_time": "2022-02-19T20:28:08.666879",
          "status": "completed"
        },
        "tags": [],
        "id": "e492ed16"
      },
      "outputs": [],
      "source": [
        "inference_model = InferenceModel(\n",
        "    trunk=trunk,\n",
        "    embedder=embedder,\n",
        "    normalize_embeddings=True,\n",
        ")"
      ]
    },
    {
      "cell_type": "markdown",
      "id": "cf8ac97b",
      "metadata": {
        "papermill": {
          "duration": 28.930505,
          "end_time": "2022-02-19T20:29:34.887273",
          "exception": false,
          "start_time": "2022-02-19T20:29:05.956768",
          "status": "completed"
        },
        "tags": [],
        "id": "cf8ac97b"
      },
      "source": [
        "Train this on the training data:"
      ]
    },
    {
      "cell_type": "code",
      "execution_count": null,
      "id": "27a03320",
      "metadata": {
        "execution": {
          "iopub.execute_input": "2022-02-19T20:30:32.083505Z",
          "iopub.status.busy": "2022-02-19T20:30:32.082651Z",
          "iopub.status.idle": "2022-02-19T20:38:53.997991Z",
          "shell.execute_reply": "2022-02-19T20:38:53.997132Z"
        },
        "papermill": {
          "duration": 530.423183,
          "end_time": "2022-02-19T20:38:53.998143",
          "exception": false,
          "start_time": "2022-02-19T20:30:03.574960",
          "status": "completed"
        },
        "tags": [],
        "id": "27a03320"
      },
      "outputs": [],
      "source": [
        "inference_model.train_knn(train_dataset)"
      ]
    },
    {
      "cell_type": "markdown",
      "id": "084f81cf",
      "metadata": {
        "papermill": {
          "duration": 28.950809,
          "end_time": "2022-02-19T20:39:51.712471",
          "exception": false,
          "start_time": "2022-02-19T20:39:22.761662",
          "status": "completed"
        },
        "tags": [],
        "id": "084f81cf"
      },
      "source": [
        "Loop through the validation data and loop through to find k nearest neighbours:"
      ]
    },
    {
      "cell_type": "code",
      "execution_count": null,
      "id": "988263e4",
      "metadata": {
        "execution": {
          "iopub.execute_input": "2022-02-19T20:40:49.049692Z",
          "iopub.status.busy": "2022-02-19T20:40:49.048891Z",
          "iopub.status.idle": "2022-02-19T20:40:49.050989Z",
          "shell.execute_reply": "2022-02-19T20:40:49.051400Z"
        },
        "papermill": {
          "duration": 28.873194,
          "end_time": "2022-02-19T20:40:49.051539",
          "exception": false,
          "start_time": "2022-02-19T20:40:20.178345",
          "status": "completed"
        },
        "tags": [],
        "id": "988263e4"
      },
      "outputs": [],
      "source": [
        "valid_dataloader = DataLoader(valid_dataset, batch_size=BATCH_SIZE, shuffle=False, num_workers=N_WORKER, pin_memory=True)"
      ]
    },
    {
      "cell_type": "code",
      "execution_count": null,
      "id": "360fc2f3",
      "metadata": {
        "execution": {
          "iopub.execute_input": "2022-02-19T20:41:46.530764Z",
          "iopub.status.busy": "2022-02-19T20:41:46.529951Z",
          "iopub.status.idle": "2022-02-19T20:43:05.226159Z",
          "shell.execute_reply": "2022-02-19T20:43:05.225641Z"
        },
        "papermill": {
          "duration": 107.715607,
          "end_time": "2022-02-19T20:43:05.226299",
          "exception": false,
          "start_time": "2022-02-19T20:41:17.510692",
          "status": "completed"
        },
        "tags": [],
        "id": "360fc2f3"
      },
      "outputs": [],
      "source": [
        "valid_labels_list = []\n",
        "valid_distance_list = []\n",
        "valid_indices_list = []\n",
        "\n",
        "for images, labels in tqdm(valid_dataloader):\n",
        "\n",
        "    distances, indices = inference_model.get_nearest_neighbors(images, k=N_NEIGHBOURS)\n",
        "    valid_labels_list.append(labels)\n",
        "    valid_distance_list.append(distances)\n",
        "    valid_indices_list.append(indices)\n",
        "\n",
        "valid_labels = torch.cat(valid_labels_list, dim=0).cpu().numpy()\n",
        "valid_distances = torch.cat(valid_distance_list, dim=0).cpu().numpy()\n",
        "valid_indices = torch.cat(valid_indices_list, dim=0).cpu().numpy()"
      ]
    },
    {
      "cell_type": "markdown",
      "id": "1fe648df",
      "metadata": {
        "papermill": {
          "duration": 28.908638,
          "end_time": "2022-02-19T20:44:03.046888",
          "exception": false,
          "start_time": "2022-02-19T20:43:34.138250",
          "status": "completed"
        },
        "tags": [],
        "id": "1fe648df"
      },
      "source": [
        "We have the indices of the nearest neighbours in our training set, so setup the lookups to return the `individual_id`:"
      ]
    },
    {
      "cell_type": "code",
      "execution_count": null,
      "id": "4f08d463",
      "metadata": {
        "execution": {
          "iopub.execute_input": "2022-02-19T20:45:00.382423Z",
          "iopub.status.busy": "2022-02-19T20:45:00.381523Z",
          "iopub.status.idle": "2022-02-19T20:45:00.448795Z",
          "shell.execute_reply": "2022-02-19T20:45:00.448339Z"
        },
        "papermill": {
          "duration": 28.706206,
          "end_time": "2022-02-19T20:45:00.448921",
          "exception": false,
          "start_time": "2022-02-19T20:44:31.742715",
          "status": "completed"
        },
        "tags": [],
        "id": "4f08d463"
      },
      "outputs": [],
      "source": [
        "new_whale_idx = -1\n",
        "\n",
        "train_labels = train_df['individual_id'].unique()\n",
        "train_idx_lookup = train_df['individual_id'].copy().to_dict()\n",
        "train_idx_lookup[-1] = 'new_individual'\n",
        "\n",
        "valid_class_lookup = valid_df.set_index('label')['individual_id'].copy().to_dict()"
      ]
    },
    {
      "cell_type": "markdown",
      "id": "71043b1c",
      "metadata": {
        "papermill": {
          "duration": 28.853592,
          "end_time": "2022-02-19T20:45:57.780554",
          "exception": false,
          "start_time": "2022-02-19T20:45:28.926962",
          "status": "completed"
        },
        "tags": [],
        "id": "71043b1c"
      },
      "source": [
        "Loop through a range of thresholds and find which maximises our MAP@5:"
      ]
    },
    {
      "cell_type": "code",
      "execution_count": null,
      "id": "1361191f",
      "metadata": {
        "execution": {
          "iopub.execute_input": "2022-02-19T20:46:55.491555Z",
          "iopub.status.busy": "2022-02-19T20:46:55.490509Z",
          "iopub.status.idle": "2022-02-19T20:46:57.403972Z",
          "shell.execute_reply": "2022-02-19T20:46:57.404385Z"
        },
        "papermill": {
          "duration": 30.586033,
          "end_time": "2022-02-19T20:46:57.404547",
          "exception": false,
          "start_time": "2022-02-19T20:46:26.818514",
          "status": "completed"
        },
        "tags": [],
        "id": "1361191f"
      },
      "outputs": [],
      "source": [
        "thresholds = [np.quantile(valid_distances, q=q) for q in np.arange(0, 1.0, 0.01)]"
      ]
    },
    {
      "cell_type": "code",
      "execution_count": null,
      "id": "35402464",
      "metadata": {
        "execution": {
          "iopub.execute_input": "2022-02-19T20:47:55.545651Z",
          "iopub.status.busy": "2022-02-19T20:47:55.544760Z",
          "iopub.status.idle": "2022-02-19T20:54:01.148331Z",
          "shell.execute_reply": "2022-02-19T20:54:01.147882Z"
        },
        "papermill": {
          "duration": 394.725171,
          "end_time": "2022-02-19T20:54:01.148457",
          "exception": false,
          "start_time": "2022-02-19T20:47:26.423286",
          "status": "completed"
        },
        "tags": [],
        "id": "35402464"
      },
      "outputs": [],
      "source": [
        "results = []\n",
        "\n",
        "for threshold in tqdm(thresholds):\n",
        "\n",
        "    prediction_list = []\n",
        "    running_map=0\n",
        "\n",
        "    for i in range(len(valid_distances)):\n",
        "\n",
        "        pred_knn_idx = valid_indices[i, :].copy()  \n",
        "        insert_idx = np.where(valid_distances[i, :] > threshold) \n",
        "\n",
        "        if insert_idx[0].size != 0:  \n",
        "            pred_knn_idx = np.insert(pred_knn_idx, np.min(insert_idx[0]), new_whale_idx) \n",
        "\n",
        "        predicted_label_list = []\n",
        "        \n",
        "        for predicted_idx in pred_knn_idx:\n",
        "            predicted_label = train_idx_lookup[predicted_idx]\n",
        "            if len(predicted_label_list) == 5:\n",
        "                break\n",
        "            if (predicted_label == 'new_individual') | (predicted_label not in predicted_label_list):\n",
        "                predicted_label_list.append(predicted_label)\n",
        "\n",
        "        gt = valid_class_lookup[valid_labels[i]]\n",
        "\n",
        "        if gt not in train_labels:\n",
        "            gt = \"new_individual\"\n",
        "\n",
        "        precision_vals = []\n",
        "\n",
        "        for j in range(5):\n",
        "            if predicted_label_list[j] == gt:\n",
        "                precision_vals.append(1/(j+1))\n",
        "            else:\n",
        "                precision_vals.append(0)\n",
        "\n",
        "        running_map += np.max(precision_vals)\n",
        "\n",
        "    results.append([threshold, running_map / len(valid_distances)])\n",
        "\n",
        "results_df = pd.DataFrame(results, columns=['threshold','map5'])"
      ]
    },
    {
      "cell_type": "code",
      "execution_count": null,
      "id": "dd4c8448",
      "metadata": {
        "execution": {
          "iopub.execute_input": "2022-02-19T20:54:58.889121Z",
          "iopub.status.busy": "2022-02-19T20:54:58.888195Z",
          "iopub.status.idle": "2022-02-19T20:54:58.891122Z",
          "shell.execute_reply": "2022-02-19T20:54:58.891524Z"
        },
        "papermill": {
          "duration": 28.576687,
          "end_time": "2022-02-19T20:54:58.891659",
          "exception": false,
          "start_time": "2022-02-19T20:54:30.314972",
          "status": "completed"
        },
        "tags": [],
        "id": "dd4c8448"
      },
      "outputs": [],
      "source": [
        "results_df = results_df.sort_values(by='map5', ascending=False).reset_index(drop=True)\n",
        "results_df.head(5)"
      ]
    },
    {
      "cell_type": "markdown",
      "id": "95799023",
      "metadata": {
        "papermill": {
          "duration": 28.624511,
          "end_time": "2022-02-19T20:55:56.542632",
          "exception": false,
          "start_time": "2022-02-19T20:55:27.918121",
          "status": "completed"
        },
        "tags": [],
        "id": "95799023"
      },
      "source": [
        "Grab the best result:"
      ]
    },
    {
      "cell_type": "code",
      "execution_count": null,
      "id": "4f9aae0d",
      "metadata": {
        "execution": {
          "iopub.execute_input": "2022-02-19T20:56:54.199018Z",
          "iopub.status.busy": "2022-02-19T20:56:54.198248Z",
          "iopub.status.idle": "2022-02-19T20:56:54.201096Z",
          "shell.execute_reply": "2022-02-19T20:56:54.201495Z"
        },
        "papermill": {
          "duration": 29.01663,
          "end_time": "2022-02-19T20:56:54.201630",
          "exception": false,
          "start_time": "2022-02-19T20:56:25.185000",
          "status": "completed"
        },
        "tags": [],
        "id": "4f9aae0d"
      },
      "outputs": [],
      "source": [
        "threshold = results_df.loc[0, 'threshold']\n",
        "threshold"
      ]
    },
    {
      "cell_type": "markdown",
      "id": "e1420c37",
      "metadata": {
        "papermill": {
          "duration": 29.219542,
          "end_time": "2022-02-19T20:57:52.223453",
          "exception": false,
          "start_time": "2022-02-19T20:57:23.003911",
          "status": "completed"
        },
        "tags": [],
        "id": "e1420c37"
      },
      "source": [
        "## Inference (test set)"
      ]
    },
    {
      "cell_type": "markdown",
      "id": "953d2bee",
      "metadata": {
        "papermill": {
          "duration": 29.081862,
          "end_time": "2022-02-19T20:58:50.146584",
          "exception": false,
          "start_time": "2022-02-19T20:58:21.064722",
          "status": "completed"
        },
        "tags": [],
        "id": "953d2bee"
      },
      "source": [
        "We want to make sure we use both our training and validation images for comparison. Combine the two dataframes and add a new dataset: "
      ]
    },
    {
      "cell_type": "code",
      "execution_count": null,
      "id": "aa6a99dc",
      "metadata": {
        "execution": {
          "iopub.execute_input": "2022-02-19T20:59:47.753680Z",
          "iopub.status.busy": "2022-02-19T20:59:47.752884Z",
          "iopub.status.idle": "2022-02-19T20:59:47.764161Z",
          "shell.execute_reply": "2022-02-19T20:59:47.763746Z"
        },
        "papermill": {
          "duration": 28.732615,
          "end_time": "2022-02-19T20:59:47.764277",
          "exception": false,
          "start_time": "2022-02-19T20:59:19.031662",
          "status": "completed"
        },
        "tags": [],
        "id": "aa6a99dc"
      },
      "outputs": [],
      "source": [
        "combined_df = pd.concat([train_df, valid_df], axis=0).reset_index(drop=True)\n",
        "combined_dataset = HappyWhaleDataset(df=combined_df, image_dir=TRAIN_DIR, return_labels=True)\n",
        "len(combined_dataset)"
      ]
    },
    {
      "cell_type": "markdown",
      "id": "ba4897fd",
      "metadata": {
        "papermill": {
          "duration": 29.037299,
          "end_time": "2022-02-19T21:00:45.483680",
          "exception": false,
          "start_time": "2022-02-19T21:00:16.446381",
          "status": "completed"
        },
        "tags": [],
        "id": "ba4897fd"
      },
      "source": [
        "Re-train the KNN model on this:"
      ]
    },
    {
      "cell_type": "code",
      "execution_count": null,
      "id": "5dc0da7c",
      "metadata": {
        "execution": {
          "iopub.execute_input": "2022-02-19T21:01:43.509350Z",
          "iopub.status.busy": "2022-02-19T21:01:43.508801Z",
          "iopub.status.idle": "2022-02-19T21:11:01.976925Z",
          "shell.execute_reply": "2022-02-19T21:11:01.976376Z"
        },
        "papermill": {
          "duration": 587.517232,
          "end_time": "2022-02-19T21:11:01.977085",
          "exception": false,
          "start_time": "2022-02-19T21:01:14.459853",
          "status": "completed"
        },
        "tags": [],
        "id": "5dc0da7c"
      },
      "outputs": [],
      "source": [
        "inference_model.train_knn(combined_dataset)"
      ]
    },
    {
      "cell_type": "markdown",
      "id": "f1dcdf71",
      "metadata": {
        "papermill": {
          "duration": 29.129267,
          "end_time": "2022-02-19T21:11:59.847330",
          "exception": false,
          "start_time": "2022-02-19T21:11:30.718063",
          "status": "completed"
        },
        "tags": [],
        "id": "f1dcdf71"
      },
      "source": [
        "Grab the submission file:"
      ]
    },
    {
      "cell_type": "code",
      "execution_count": null,
      "id": "490e70eb",
      "metadata": {
        "execution": {
          "iopub.execute_input": "2022-02-19T21:12:57.387812Z",
          "iopub.status.busy": "2022-02-19T21:12:57.387260Z",
          "iopub.status.idle": "2022-02-19T21:12:57.443465Z",
          "shell.execute_reply": "2022-02-19T21:12:57.442964Z"
        },
        "papermill": {
          "duration": 28.698311,
          "end_time": "2022-02-19T21:12:57.443592",
          "exception": false,
          "start_time": "2022-02-19T21:12:28.745281",
          "status": "completed"
        },
        "tags": [],
        "id": "490e70eb"
      },
      "outputs": [],
      "source": [
        "# test_df = pd.read_csv('../input/happy-whale-and-dolphin/sample_submission.csv')"
      ]
    },
    {
      "cell_type": "code",
      "source": [
        "test_df = pd.read_csv('/kaggle/input/sample_submission.csv')"
      ],
      "metadata": {
        "id": "O2EHU0rvYVFa"
      },
      "id": "O2EHU0rvYVFa",
      "execution_count": null,
      "outputs": []
    },
    {
      "cell_type": "markdown",
      "id": "72662ac1",
      "metadata": {
        "papermill": {
          "duration": 28.649551,
          "end_time": "2022-02-19T21:13:54.762038",
          "exception": false,
          "start_time": "2022-02-19T21:13:26.112487",
          "status": "completed"
        },
        "tags": [],
        "id": "72662ac1"
      },
      "source": [
        "Create our dataset and dataloader objects for the test set:"
      ]
    },
    {
      "cell_type": "code",
      "execution_count": null,
      "id": "df083747",
      "metadata": {
        "execution": {
          "iopub.execute_input": "2022-02-19T21:14:52.808391Z",
          "iopub.status.busy": "2022-02-19T21:14:52.807542Z",
          "iopub.status.idle": "2022-02-19T21:14:52.813499Z",
          "shell.execute_reply": "2022-02-19T21:14:52.813074Z"
        },
        "papermill": {
          "duration": 29.134032,
          "end_time": "2022-02-19T21:14:52.813621",
          "exception": false,
          "start_time": "2022-02-19T21:14:23.679589",
          "status": "completed"
        },
        "tags": [],
        "id": "df083747"
      },
      "outputs": [],
      "source": [
        "test_dataset = HappyWhaleDataset(df=test_df, image_dir=TEST_DIR, return_labels=False)\n",
        "len(test_dataset)"
      ]
    },
    {
      "cell_type": "code",
      "execution_count": null,
      "id": "35b2b5ea",
      "metadata": {
        "execution": {
          "iopub.execute_input": "2022-02-19T21:15:50.588162Z",
          "iopub.status.busy": "2022-02-19T21:15:50.587380Z",
          "iopub.status.idle": "2022-02-19T21:15:50.589477Z",
          "shell.execute_reply": "2022-02-19T21:15:50.589924Z"
        },
        "papermill": {
          "duration": 28.986153,
          "end_time": "2022-02-19T21:15:50.590067",
          "exception": false,
          "start_time": "2022-02-19T21:15:21.603914",
          "status": "completed"
        },
        "tags": [],
        "id": "35b2b5ea"
      },
      "outputs": [],
      "source": [
        "test_dataloader = DataLoader(test_dataset, batch_size=BATCH_SIZE, shuffle=False, num_workers=N_WORKER, pin_memory=True)"
      ]
    },
    {
      "cell_type": "markdown",
      "id": "9a15fcf2",
      "metadata": {
        "papermill": {
          "duration": 29.079939,
          "end_time": "2022-02-19T21:16:48.628440",
          "exception": false,
          "start_time": "2022-02-19T21:16:19.548501",
          "status": "completed"
        },
        "tags": [],
        "id": "9a15fcf2"
      },
      "source": [
        "Find the k nearest neighbours in our combined dataset:"
      ]
    },
    {
      "cell_type": "code",
      "execution_count": null,
      "id": "5fd6a0ca",
      "metadata": {
        "execution": {
          "iopub.execute_input": "2022-02-19T21:17:45.808510Z",
          "iopub.status.busy": "2022-02-19T21:17:45.807563Z",
          "iopub.status.idle": "2022-02-19T21:25:18.307620Z",
          "shell.execute_reply": "2022-02-19T21:25:18.308324Z"
        },
        "papermill": {
          "duration": 481.219801,
          "end_time": "2022-02-19T21:25:18.308503",
          "exception": false,
          "start_time": "2022-02-19T21:17:17.088702",
          "status": "completed"
        },
        "tags": [],
        "id": "5fd6a0ca"
      },
      "outputs": [],
      "source": [
        "test_distance_list = []\n",
        "test_indices_list = []\n",
        "\n",
        "for images in tqdm(test_dataloader):\n",
        "\n",
        "    distances, indices = inference_model.get_nearest_neighbors(images, k=N_NEIGHBOURS)\n",
        "    test_distance_list.append(distances)\n",
        "    test_indices_list.append(indices)\n",
        "\n",
        "test_distances = torch.cat(test_distance_list, dim=0).cpu().numpy()\n",
        "test_indices = torch.cat(test_indices_list, dim=0).cpu().numpy()"
      ]
    },
    {
      "cell_type": "markdown",
      "id": "cce13eb7",
      "metadata": {
        "papermill": {
          "duration": 29.335593,
          "end_time": "2022-02-19T21:26:16.661119",
          "exception": false,
          "start_time": "2022-02-19T21:25:47.325526",
          "status": "completed"
        },
        "tags": [],
        "id": "cce13eb7"
      },
      "source": [
        "Prepare the labels for lookup based on index:"
      ]
    },
    {
      "cell_type": "code",
      "execution_count": null,
      "id": "eab069d0",
      "metadata": {
        "execution": {
          "iopub.execute_input": "2022-02-19T21:27:14.548621Z",
          "iopub.status.busy": "2022-02-19T21:27:14.547852Z",
          "iopub.status.idle": "2022-02-19T21:27:14.605665Z",
          "shell.execute_reply": "2022-02-19T21:27:14.606106Z"
        },
        "papermill": {
          "duration": 28.942567,
          "end_time": "2022-02-19T21:27:14.606263",
          "exception": false,
          "start_time": "2022-02-19T21:26:45.663696",
          "status": "completed"
        },
        "tags": [],
        "id": "eab069d0"
      },
      "outputs": [],
      "source": [
        "combined_idx_lookup = combined_df['individual_id'].copy().to_dict()\n",
        "combined_idx_lookup[-1] = 'new_individual'"
      ]
    },
    {
      "cell_type": "markdown",
      "id": "5d30e8bc",
      "metadata": {
        "papermill": {
          "duration": 28.537107,
          "end_time": "2022-02-19T21:28:12.308856",
          "exception": false,
          "start_time": "2022-02-19T21:27:43.771749",
          "status": "completed"
        },
        "tags": [],
        "id": "5d30e8bc"
      },
      "source": [
        "Loop through applying the threshold we found earlier to insert `new_individual`:"
      ]
    },
    {
      "cell_type": "code",
      "execution_count": null,
      "id": "f21925fa",
      "metadata": {
        "execution": {
          "iopub.execute_input": "2022-02-19T21:29:10.773729Z",
          "iopub.status.busy": "2022-02-19T21:29:10.772824Z",
          "iopub.status.idle": "2022-02-19T21:29:12.236424Z",
          "shell.execute_reply": "2022-02-19T21:29:12.236853Z"
        },
        "papermill": {
          "duration": 30.714511,
          "end_time": "2022-02-19T21:29:12.237022",
          "exception": false,
          "start_time": "2022-02-19T21:28:41.522511",
          "status": "completed"
        },
        "tags": [],
        "id": "f21925fa"
      },
      "outputs": [],
      "source": [
        "results = []\n",
        "\n",
        "prediction_list = []\n",
        "\n",
        "for i in range(len(test_distances)):\n",
        "\n",
        "    pred_knn_idx = test_indices[i, :].copy() \n",
        "    insert_idx = np.where(test_distances[i, :] > threshold)  \n",
        "\n",
        "    if insert_idx[0].size != 0:  \n",
        "        pred_knn_idx = np.insert(pred_knn_idx, np.min(insert_idx[0]), new_whale_idx)  \n",
        "\n",
        "    predicted_label_list = []\n",
        "\n",
        "    for predicted_idx in pred_knn_idx:\n",
        "        predicted_label = combined_idx_lookup[predicted_idx]\n",
        "        if len(predicted_label_list) == 5:\n",
        "            break\n",
        "        if (predicted_label == 'new_individual') | (predicted_label not in predicted_label_list):\n",
        "            predicted_label_list.append(predicted_label)\n",
        "\n",
        "    prediction_list.append(predicted_label_list)\n",
        "\n",
        "prediction_df = pd.DataFrame(prediction_list)\n",
        "prediction_df.head()"
      ]
    },
    {
      "cell_type": "markdown",
      "id": "ebaf1798",
      "metadata": {
        "papermill": {
          "duration": 29.348237,
          "end_time": "2022-02-19T21:30:10.525624",
          "exception": false,
          "start_time": "2022-02-19T21:29:41.177387",
          "status": "completed"
        },
        "tags": [],
        "id": "ebaf1798"
      },
      "source": [
        "Create the prediction label:"
      ]
    },
    {
      "cell_type": "code",
      "execution_count": null,
      "id": "4995afa3",
      "metadata": {
        "execution": {
          "iopub.execute_input": "2022-02-19T21:31:08.393922Z",
          "iopub.status.busy": "2022-02-19T21:31:08.359784Z",
          "iopub.status.idle": "2022-02-19T21:31:08.398952Z",
          "shell.execute_reply": "2022-02-19T21:31:08.398499Z"
        },
        "papermill": {
          "duration": 28.908425,
          "end_time": "2022-02-19T21:31:08.399076",
          "exception": false,
          "start_time": "2022-02-19T21:30:39.490651",
          "status": "completed"
        },
        "tags": [],
        "id": "4995afa3"
      },
      "outputs": [],
      "source": [
        "prediction_df['predictions'] = prediction_df[0].astype(str) + ' ' + prediction_df[1].astype(str) + ' ' + prediction_df[2 ].astype(str) + ' ' + prediction_df[3].astype(str) + ' ' + prediction_df[4].astype(str)\n",
        "prediction_df.head()"
      ]
    },
    {
      "cell_type": "markdown",
      "id": "716ec5be",
      "metadata": {
        "papermill": {
          "duration": 29.094327,
          "end_time": "2022-02-19T21:32:07.000855",
          "exception": false,
          "start_time": "2022-02-19T21:31:37.906528",
          "status": "completed"
        },
        "tags": [],
        "id": "716ec5be"
      },
      "source": [
        "Attach this to the submission:"
      ]
    },
    {
      "cell_type": "code",
      "execution_count": null,
      "id": "b81b6a3f",
      "metadata": {
        "execution": {
          "iopub.execute_input": "2022-02-19T21:33:04.792095Z",
          "iopub.status.busy": "2022-02-19T21:33:04.791527Z",
          "iopub.status.idle": "2022-02-19T21:33:04.831373Z",
          "shell.execute_reply": "2022-02-19T21:33:04.831849Z"
        },
        "papermill": {
          "duration": 29.477323,
          "end_time": "2022-02-19T21:33:04.832004",
          "exception": false,
          "start_time": "2022-02-19T21:32:35.354681",
          "status": "completed"
        },
        "tags": [],
        "id": "b81b6a3f"
      },
      "outputs": [],
      "source": [
        "submission = pd.read_csv('/kaggle/input/sample_submission.csv')\n",
        "submission['predictions'] = prediction_df['predictions']\n",
        "submission.head(1)"
      ]
    },
    {
      "cell_type": "markdown",
      "id": "14acefce",
      "metadata": {
        "papermill": {
          "duration": 29.150562,
          "end_time": "2022-02-19T21:34:03.551374",
          "exception": false,
          "start_time": "2022-02-19T21:33:34.400812",
          "status": "completed"
        },
        "tags": [],
        "id": "14acefce"
      },
      "source": [
        "Save our submission:"
      ]
    },
    {
      "cell_type": "code",
      "execution_count": null,
      "id": "88bd2baa",
      "metadata": {
        "execution": {
          "iopub.execute_input": "2022-02-19T21:35:02.362776Z",
          "iopub.status.busy": "2022-02-19T21:35:02.362045Z",
          "iopub.status.idle": "2022-02-19T21:35:02.481866Z",
          "shell.execute_reply": "2022-02-19T21:35:02.481380Z"
        },
        "papermill": {
          "duration": 29.459109,
          "end_time": "2022-02-19T21:35:02.481990",
          "exception": false,
          "start_time": "2022-02-19T21:34:33.022881",
          "status": "completed"
        },
        "tags": [],
        "id": "88bd2baa"
      },
      "outputs": [],
      "source": [
        "submission.to_csv('submission.csv', index=False)"
      ]
    },
    {
      "cell_type": "code",
      "execution_count": null,
      "id": "de3bb855",
      "metadata": {
        "papermill": {
          "duration": 29.474816,
          "end_time": "2022-02-19T21:36:00.869899",
          "exception": false,
          "start_time": "2022-02-19T21:35:31.395083",
          "status": "completed"
        },
        "tags": [],
        "id": "de3bb855"
      },
      "outputs": [],
      "source": [
        "!cp submission.csv  /content/gdrive/MyDrive/kaggle/Whale/ouput/"
      ]
    },
    {
      "cell_type": "code",
      "source": [
        ""
      ],
      "metadata": {
        "id": "ZUoqMGqtfPEm"
      },
      "id": "ZUoqMGqtfPEm",
      "execution_count": null,
      "outputs": []
    }
  ],
  "metadata": {
    "kernelspec": {
      "display_name": "Python 3",
      "language": "python",
      "name": "python3"
    },
    "language_info": {
      "codemirror_mode": {
        "name": "ipython",
        "version": 3
      },
      "file_extension": ".py",
      "mimetype": "text/x-python",
      "name": "python",
      "nbconvert_exporter": "python",
      "pygments_lexer": "ipython3",
      "version": "3.7.12"
    },
    "papermill": {
      "default_parameters": {},
      "duration": 28625.861989,
      "end_time": "2022-02-19T21:36:32.834904",
      "environment_variables": {},
      "exception": null,
      "input_path": "__notebook__.ipynb",
      "output_path": "__notebook__.ipynb",
      "parameters": {},
      "start_time": "2022-02-19T13:39:26.972915",
      "version": "2.3.3"
    },
    "colab": {
      "name": "20220221pytorch-metric-learning-effnet-arcface.ipynb",
      "provenance": [],
      "collapsed_sections": [],
      "background_execution": "on",
      "include_colab_link": true
    },
    "accelerator": "GPU"
  },
  "nbformat": 4,
  "nbformat_minor": 5
}